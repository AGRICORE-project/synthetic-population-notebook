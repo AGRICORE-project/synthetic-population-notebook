{
 "cells": [
  {
   "cell_type": "code",
   "execution_count": 1,
   "metadata": {},
   "outputs": [],
   "source": [
    "import os\n",
    "import pandas as pd\n",
    "import numpy as np\n"
   ]
  },
  {
   "cell_type": "code",
   "execution_count": 2,
   "metadata": {},
   "outputs": [],
   "source": [
    "DATA_PATH = \"./../data/use_case_andalusia/metadata\""
   ]
  },
  {
   "cell_type": "code",
   "execution_count": null,
   "metadata": {},
   "outputs": [],
   "source": [
    "Product_Groups = pd.read_csv(os.path.join(DATA_PATH, \"Product_Groups.csv\"))\n",
    "display(Product_Groups)"
   ]
  },
  {
   "cell_type": "code",
   "execution_count": null,
   "metadata": {},
   "outputs": [],
   "source": [
    "crops_codes = pd.read_csv(os.path.join(DATA_PATH, \"crops_codes.csv\"))\n",
    "display(crops_codes)"
   ]
  },
  {
   "cell_type": "code",
   "execution_count": null,
   "metadata": {},
   "outputs": [],
   "source": [
    "product_mapping_esp = pd.DataFrame()\n",
    "product_mapping_esp[\"Description\"] = crops_codes[\"Description\"]\n",
    "product_mapping_esp[\"FADN Included products\"] = crops_codes[\"Description\"]\n",
    "product_mapping_esp[\"FADN Included products IDs\"] = crops_codes[\"code\"]\n",
    "product_mapping_esp[\"CUSTOM GROUP (EN)\"] = np.nan\n",
    "\n",
    "product_mapping_esp[\"FADN Included products IDs\"] = product_mapping_esp[\"FADN Included products IDs\"].astype(str)\n",
    "product_mapping_esp"
   ]
  },
  {
   "cell_type": "code",
   "execution_count": null,
   "metadata": {},
   "outputs": [],
   "source": [
    "product_mapping_ita = pd.read_csv(os.path.join(DATA_PATH, \"Product_Mapping_ita.csv\"))\n",
    "display(product_mapping_ita)\n"
   ]
  },
  {
   "cell_type": "code",
   "execution_count": null,
   "metadata": {},
   "outputs": [],
   "source": [
    "product_mapping_ita[\"CUSTOM GROUP (EN)\"].unique()"
   ]
  },
  {
   "cell_type": "code",
   "execution_count": null,
   "metadata": {},
   "outputs": [],
   "source": [
    "for idx in product_mapping_esp.index:\n",
    "    code = product_mapping_esp.at[idx, \"FADN Included products IDs\"]\n",
    "    \n",
    "    if code in product_mapping_ita[\"FADN Included products IDs\"].dropna().unique():\n",
    "        print(code)\n",
    "        # Assign custom group\n",
    "        custom_group = [cg for cg in product_mapping_ita[product_mapping_ita[\"FADN Included products IDs\"]==code][\"CUSTOM GROUP (EN)\"].dropna().unique() if not cg.startswith(\"ORG\")]\n",
    "        if len(custom_group)>0:\n",
    "            product_mapping_esp.at[idx, \"CUSTOM GROUP (EN)\"] = custom_group[0]\n",
    "            print(\"    \", custom_group)"
   ]
  },
  {
   "cell_type": "code",
   "execution_count": null,
   "metadata": {},
   "outputs": [],
   "source": [
    "product_mapping_esp[\"product_code\"] = product_mapping_esp[\"FADN Included products IDs\"].apply(lambda x: x)\n",
    "\n",
    "display(product_mapping_esp)"
   ]
  },
  {
   "cell_type": "code",
   "execution_count": 29,
   "metadata": {},
   "outputs": [],
   "source": [
    "product_mapping_esp[\"CUSTOM GROUP (EN)\"] = product_mapping_esp.apply(lambda x: x[\"CUSTOM GROUP (EN)\"] if not pd.isna(x[\"CUSTOM GROUP (EN)\"]) else \"OTHER\", axis=1)\n",
    "\n",
    "#product_mapping_esp[\"CUSTOM GROUP (EN)\"] = product_mapping_esp[\"CUSTOM GROUP (EN)\"].apply(lambda x: x if isinstance(x, \"str\") else \"OTHER\")"
   ]
  },
  {
   "cell_type": "code",
   "execution_count": null,
   "metadata": {},
   "outputs": [],
   "source": [
    "product_mapping_esp[\"CUSTOM GROUP (EN)\"].unique()"
   ]
  },
  {
   "cell_type": "code",
   "execution_count": null,
   "metadata": {},
   "outputs": [],
   "source": [
    "# Check that all the codes available in ITA use case have been assigned in the SPA use case\n",
    "product_mapping_ita[product_mapping_ita[\"FADN Included products IDs\"].isin(product_mapping_esp[product_mapping_esp[\"CUSTOM GROUP (EN)\"].isna()][\"FADN Included products IDs\"].tolist())]\n"
   ]
  },
  {
   "cell_type": "code",
   "execution_count": 32,
   "metadata": {},
   "outputs": [],
   "source": [
    "# Generate organic crops\n",
    "product_mapping_esp_org = product_mapping_esp.copy(deep=True)"
   ]
  },
  {
   "cell_type": "code",
   "execution_count": null,
   "metadata": {},
   "outputs": [],
   "source": [
    "product_mapping_esp"
   ]
  },
  {
   "cell_type": "code",
   "execution_count": 34,
   "metadata": {},
   "outputs": [],
   "source": [
    "product_mapping_esp_org[\"CUSTOM GROUP (EN)\"] = product_mapping_esp_org[\"CUSTOM GROUP (EN)\"].dropna().apply(lambda x: f'ORG_{x}')"
   ]
  },
  {
   "cell_type": "code",
   "execution_count": null,
   "metadata": {},
   "outputs": [],
   "source": [
    "product_mapping_esp = pd.concat([product_mapping_esp, product_mapping_esp_org]).reset_index(drop=True)\n",
    "display(product_mapping_esp)"
   ]
  },
  {
   "cell_type": "code",
   "execution_count": 36,
   "metadata": {},
   "outputs": [],
   "source": [
    "# Save Spanish product mapping\n",
    "FILENAME = \"Product_Mapping_esp.csv\"\n",
    "product_mapping_esp.to_csv(os.path.join(DATA_PATH, FILENAME), index=False)"
   ]
  },
  {
   "cell_type": "code",
   "execution_count": null,
   "metadata": {},
   "outputs": [],
   "source": []
  }
 ],
 "metadata": {
  "kernelspec": {
   "display_name": "agricore_env",
   "language": "python",
   "name": "python3"
  },
  "language_info": {
   "codemirror_mode": {
    "name": "ipython",
    "version": 3
   },
   "file_extension": ".py",
   "mimetype": "text/x-python",
   "name": "python",
   "nbconvert_exporter": "python",
   "pygments_lexer": "ipython3",
   "version": "3.8.10"
  }
 },
 "nbformat": 4,
 "nbformat_minor": 2
}
