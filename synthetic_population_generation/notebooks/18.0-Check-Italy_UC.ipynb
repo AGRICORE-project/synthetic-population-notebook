{
 "cells": [
  {
   "cell_type": "code",
   "execution_count": null,
   "metadata": {},
   "outputs": [],
   "source": [
    "import os\n",
    "import pandas as pd"
   ]
  },
  {
   "cell_type": "code",
   "execution_count": null,
   "metadata": {},
   "outputs": [],
   "source": [
    "BASE_PATH = \"./../data/use_case_italy\"\n",
    "METADATA_PATH = os.path.join(BASE_PATH, \"metadata\")\n",
    "MICRODATA_PATH = os.path.join(BASE_PATH, \"microdata\")\n"
   ]
  },
  {
   "cell_type": "markdown",
   "metadata": {},
   "source": [
    "#### Product Mapping"
   ]
  },
  {
   "cell_type": "code",
   "execution_count": null,
   "metadata": {},
   "outputs": [],
   "source": [
    "PROUDCT_MAPPING_PATH = os.path.join(METADATA_PATH, \"Product_Mapping.csv\")\n",
    "product_mapping = pd.read_csv(PROUDCT_MAPPING_PATH).dropna()\n",
    "\n",
    "display(product_mapping)"
   ]
  },
  {
   "cell_type": "code",
   "execution_count": null,
   "metadata": {},
   "outputs": [],
   "source": [
    "product_mapping[product_mapping[\"CUSTOM GROUP (EN)\"].isin([\"OLIV\", \"ORG_OLIV\"])]"
   ]
  },
  {
   "cell_type": "code",
   "execution_count": null,
   "metadata": {},
   "outputs": [],
   "source": [
    "for cm in product_mapping[\"CUSTOM GROUP (EN)\"].unique():\n",
    "    print(cm)"
   ]
  },
  {
   "cell_type": "markdown",
   "metadata": {},
   "source": [
    "#### Product Groups"
   ]
  },
  {
   "cell_type": "code",
   "execution_count": null,
   "metadata": {},
   "outputs": [],
   "source": [
    "PRODUCT_GROUPS_PATH = os.path.join(METADATA_PATH, \"Product_Groups.csv\")\n",
    "product_groups = pd.read_csv(PRODUCT_GROUPS_PATH)\n",
    "\n",
    "display(product_groups)"
   ]
  },
  {
   "cell_type": "code",
   "execution_count": null,
   "metadata": {},
   "outputs": [],
   "source": [
    "for pg in product_groups[\"PRODUCT GROUP\"].unique():\n",
    "    if not pg in product_mapping[\"CUSTOM GROUP (EN)\"].unique():\n",
    "    \n",
    "        print(pg)"
   ]
  },
  {
   "cell_type": "markdown",
   "metadata": {},
   "source": [
    "#### Livestock Mapping"
   ]
  },
  {
   "cell_type": "code",
   "execution_count": null,
   "metadata": {},
   "outputs": [],
   "source": [
    "ANIMAL_CODES_PATH = os.path.join(METADATA_PATH, \"animal_codes.csv\")\n",
    "animal_codes = pd.read_csv(ANIMAL_CODES_PATH)\n",
    "\n",
    "display(animal_codes)"
   ]
  },
  {
   "cell_type": "markdown",
   "metadata": {},
   "source": [
    "#### Animal Products Codes"
   ]
  },
  {
   "cell_type": "code",
   "execution_count": null,
   "metadata": {},
   "outputs": [],
   "source": [
    "ANIMAL_PRODUCTS_CODES_PATH = os.path.join(METADATA_PATH, \"animal_products_codes.csv\")\n",
    "animal_products_codes = pd.read_csv(ANIMAL_PRODUCTS_CODES_PATH)\n",
    "\n",
    "display(animal_products_codes)"
   ]
  },
  {
   "cell_type": "code",
   "execution_count": null,
   "metadata": {},
   "outputs": [],
   "source": []
  },
  {
   "cell_type": "code",
   "execution_count": null,
   "metadata": {},
   "outputs": [],
   "source": []
  }
 ],
 "metadata": {
  "kernelspec": {
   "display_name": "Python 3",
   "language": "python",
   "name": "python3"
  },
  "language_info": {
   "codemirror_mode": {
    "name": "ipython",
    "version": 3
   },
   "file_extension": ".py",
   "mimetype": "text/x-python",
   "name": "python",
   "nbconvert_exporter": "python",
   "pygments_lexer": "ipython3",
   "version": "3.10.12"
  }
 },
 "nbformat": 4,
 "nbformat_minor": 2
}
