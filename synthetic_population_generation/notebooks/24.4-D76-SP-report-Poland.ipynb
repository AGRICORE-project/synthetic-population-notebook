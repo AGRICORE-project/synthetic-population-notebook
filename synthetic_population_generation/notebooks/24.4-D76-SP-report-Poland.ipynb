{
 "cells": [
  {
   "cell_type": "code",
   "execution_count": 75,
   "metadata": {},
   "outputs": [],
   "source": [
    "import os\n",
    "import pandas as pd\n",
    "import numpy as np\n",
    "import matplotlib.pyplot as plt\n",
    "\n",
    "#BASE_DIR = \"./work/carlos/complete_execution_andalucia\"\n",
    "BASE_DIR = \"./..\"\n",
    "\n",
    "os.chdir(BASE_DIR)\n",
    "from src.report_functions import *\n",
    "from src.VariableNameConversion import VariableNameConversion\n"
   ]
  },
  {
   "cell_type": "code",
   "execution_count": 103,
   "metadata": {},
   "outputs": [],
   "source": [
    "pd.options.display.float_format = '{:.2f}'.format"
   ]
  },
  {
   "cell_type": "code",
   "execution_count": 104,
   "metadata": {},
   "outputs": [],
   "source": [
    "DATA_PATH = \"./data\"\n"
   ]
  },
  {
   "cell_type": "code",
   "execution_count": 105,
   "metadata": {},
   "outputs": [],
   "source": [
    "USE_CASE = \"poland\"\n",
    "BASE_PATH = f\"./data/use_case_{USE_CASE}\"\n",
    "TOTALS_VARIABLES = [\"cultivatedArea\"]\n",
    "\n",
    "\n",
    "YEAR = 2018\n",
    "\n",
    "FIGURES_DEST_PATH = os.path.join(BASE_PATH, \"figures\")"
   ]
  },
  {
   "cell_type": "code",
   "execution_count": 106,
   "metadata": {},
   "outputs": [],
   "source": [
    "try:\n",
    "    os.chdir(\"./complete_execution_andalucia\")\n",
    "except:\n",
    "    print(\"Already in the correct directory\")"
   ]
  },
  {
   "cell_type": "code",
   "execution_count": 109,
   "metadata": {},
   "outputs": [],
   "source": [
    "REPORT_PATH = f\"./data/use_case_{USE_CASE}/report\"\n",
    "\n",
    "if not \"report\" in os.listdir(f\"./data/use_case_{USE_CASE}\"):\n",
    "    os.mkdir(f\"./data/use_case_{USE_CASE}/report\")\n",
    "    print(\"Report directory created\")\n",
    "else:\n",
    "    print(\"Report directory already exists\")"
   ]
  },
  {
   "cell_type": "markdown",
   "metadata": {},
   "source": [
    "### 1 Load original data"
   ]
  },
  {
   "cell_type": "code",
   "execution_count": 111,
   "metadata": {},
   "outputs": [],
   "source": [
    "try:\n",
    "    original_ = pd.read_csv(f\"./data/use_case_{USE_CASE}/microdata_agricore_format/microdata_agricore_format_{YEAR}.csv\")\n",
    "    #weights = pd.read_csv(f\"./data/use_case_{USE_CASE}/microdata_agricore_format/weights_{YEAR}.csv\")\n",
    "    categoricals = pd.read_csv(f\"./data/use_case_{USE_CASE}/microdata_agricore_format/categoricals.csv\")[\"0\"].tolist()\n",
    "\n",
    "    print(\"Data already loaded\")\n",
    "\n",
    "except:\n",
    "    print(\"Converting microdata to agricore format\")\n",
    "\n",
    "    vnc = VariableNameConversion(BASE_PATH, USE_CASE, YEAR, TOTALS_VARIABLES)\n",
    "    result = vnc.main()\n",
    "\n",
    "    original_ = result[0]\n",
    "    categoricals = result[1]\n",
    "    weights = result[2]\n",
    "\n",
    "    if not \"microdata_agricore_format\" in os.listdir(f\"./data/use_case_{USE_CASE}\"):\n",
    "        os.mkdir(f\"./data/use_case_{USE_CASE}/microdata_agricore_format\")\n",
    "        print(\"Microdata directory created\")\n",
    "\n",
    "    original_.to_csv(f\"./data/use_case_{USE_CASE}/microdata_agricore_format/microdata_agricore_format_{YEAR}.csv\", index=False)\n",
    "    weights.to_csv(f\"./data/use_case_{USE_CASE}/microdata_agricore_format/weights_{YEAR}.csv\", index=False)\n",
    "    pd.DataFrame(categoricals).to_csv(f\"./data/use_case_{USE_CASE}/microdata_agricore_format/categoricals.csv\", index=False)\n"
   ]
  },
  {
   "cell_type": "markdown",
   "metadata": {},
   "source": [
    "### Upsample original data"
   ]
  },
  {
   "cell_type": "code",
   "execution_count": 83,
   "metadata": {},
   "outputs": [],
   "source": [
    "np.random.seed(28)\n",
    "original_data = original_.loc[original_.index.repeat(weights.to_numpy().flatten())].reset_index(drop=True)\n",
    "\n",
    "print(f\"Shape of the original data {original_.shape}\")\n",
    "print(f\"Shape of the upsampled data {original_data.shape}\")"
   ]
  },
  {
   "cell_type": "markdown",
   "metadata": {},
   "source": [
    "### Load synthetic data"
   ]
  },
  {
   "cell_type": "code",
   "execution_count": 84,
   "metadata": {},
   "outputs": [],
   "source": [
    "from pathlib import Path\n",
    "\n",
    "SYNTHETIC_DATA_PATH = os.path.join(BASE_PATH, \"synthetic_population\")\n",
    "paths = sorted(Path(SYNTHETIC_DATA_PATH).iterdir(), key=os.path.getmtime)\n",
    "\n",
    "print(\"Available synthetic populations\")\n",
    "for path in paths:\n",
    "    print(path)\n",
    "\n",
    "SYNTHETIC_DATA_FILE = [os.path.split(path)[-1] for path in paths if str(YEAR) in path.name][-1]\n",
    "\n",
    "print(\"\\nSelected synthetic population\")\n",
    "print(SYNTHETIC_DATA_FILE)\n",
    "\n",
    "synthetic_data = pd.read_csv(os.path.join(SYNTHETIC_DATA_PATH, SYNTHETIC_DATA_FILE))\n",
    "print(\"\\nSynthetic population loaded\")\n",
    "\n",
    "synthetic_data.head()"
   ]
  },
  {
   "cell_type": "markdown",
   "metadata": {},
   "source": [
    "### Fix sellingPrice for synthetic population"
   ]
  },
  {
   "cell_type": "code",
   "execution_count": 85,
   "metadata": {},
   "outputs": [],
   "source": [
    "for crop in [c.split(\".\")[0] for c in synthetic_data.columns if c.endswith(\"cultivatedArea\")]:\n",
    "    \n",
    "    synthetic_data[f\"{crop}.sellingPrice\"] = synthetic_data.apply(lambda x: x[f\"{crop}.valueSales\"]/x[f\"{crop}.quantitySold\"] if x[f\"{crop}.quantitySold\"] > 0 else 0, axis=1)\n",
    "\n",
    "    # Get average value for sellingPrice\n",
    "    avg_sellingPrice = synthetic_data[synthetic_data[f\"{crop}.sellingPrice\"]>0][f\"{crop}.sellingPrice\"].mean()\n",
    "\n",
    "    if np.isnan(avg_sellingPrice):\n",
    "        avg_sellingPrice = 0.0\n",
    "    print(f\"{crop} - Average selling price: {avg_sellingPrice}\")\n",
    "    \n",
    "    # Get indexes of zero value\n",
    "    indexes_sellingPrice = synthetic_data[(synthetic_data[f\"{crop}.sellingPrice\"]==0)&(synthetic_data[f\"{crop}.valueSales\"]>0)].index\n",
    "\n",
    "    # Input mean value\n",
    "    synthetic_data.loc[indexes_sellingPrice, f\"{crop}.sellingPrice\"] = np.ones(len(indexes_sellingPrice))*avg_sellingPrice\n"
   ]
  },
  {
   "cell_type": "markdown",
   "metadata": {},
   "source": [
    "#### Resample original data according synthetic data size"
   ]
  },
  {
   "cell_type": "code",
   "execution_count": 87,
   "metadata": {},
   "outputs": [],
   "source": [
    "n_farms_original = int(weights.sum())\n",
    "print(f\"Number of farms original: {n_farms_original}\")\n",
    "\n",
    "n_farms_synthetic = synthetic_data.shape[0]\n",
    "print(f\"Number of farms synthetic: {n_farms_synthetic}\")\n",
    "\n",
    "sampling_ratio = n_farms_synthetic/n_farms_original\n",
    "print(f\"Sampling ratio: {sampling_ratio}\")\n",
    "print(f\"Sampling {round(sampling_ratio, 4)*100} % of original farms\")\n",
    "\n",
    "RESAMPLE = False\n",
    "\n",
    "if sampling_ratio < 1 and RESAMPLE:\n",
    "    original_data = original_data.sample(frac=sampling_ratio, replace=False, random_state=28)\n",
    "    #synthetic_data = synthetic_data.sample(n=n_farms_original, replace=False, random_state=28)\n",
    "else:\n",
    "    print(\"No need to resample\")"
   ]
  },
  {
   "cell_type": "code",
   "execution_count": 88,
   "metadata": {},
   "outputs": [],
   "source": [
    "n_farms_original = original_data.shape[0]\n",
    "print(f\"Number of farms original: {n_farms_original}\")\n",
    "\n",
    "n_farms_synthetic = synthetic_data.shape[0]\n",
    "print(f\"Number of farms synthetic: {n_farms_synthetic}\")"
   ]
  },
  {
   "cell_type": "code",
   "execution_count": 90,
   "metadata": {},
   "outputs": [],
   "source": [
    "def fill_zero_records(df, var):\n",
    "    \"\"\"\n",
    "    Fill the records with zero values according other values in the dataset.\n",
    "\n",
    "    Args:\n",
    "        df (pd.DataFrame): DataFrame with the data.\n",
    "        var (str): Variable to fill the zeros.\n",
    "    Returns:\n",
    "        df (pd.DataFrame): DataFrame with the zeros filled.\n",
    "    \"\"\"\n",
    "    # Compute normalized probability for each category different from zero\n",
    "    _proba = df[df[var]!=0][var].value_counts().to_dict()\n",
    "    sum_proba = sum(_proba.values())\n",
    "    _proba = {k: v/sum_proba for k, v in _proba.items()}\n",
    "\n",
    "    # Compute the number of zeros to be filled\n",
    "    n_zeros = df[df[var]==0].shape[0]\n",
    "\n",
    "    # Generate random values to fill the zeros\n",
    "    var_random = np.random.choice(list(_proba.keys()), size=n_zeros, p=list(_proba.values()))\n",
    "\n",
    "    # Fill the zeros with random values\n",
    "    df.loc[df[var]==0, var] = var_random\n",
    "\n",
    "    return df\n"
   ]
  },
  {
   "cell_type": "markdown",
   "metadata": {},
   "source": [
    "#### Fix sellingPrice issues"
   ]
  },
  {
   "cell_type": "code",
   "execution_count": 93,
   "metadata": {},
   "outputs": [],
   "source": [
    "\n",
    "for crop in [c.split(\".\")[0] for c in original_data.columns if c.endswith(\"cultivatedArea\")]:\n",
    "    original_data[f\"{crop}.sellingPrice\"] = original_data.apply(lambda x: x[f\"{crop}.valueSales\"]/x[f\"{crop}.quantitySold\"] if x[f\"{crop}.quantitySold\"]>0 else 0, axis=1)\n",
    "\n",
    "    # Get average value for sellingPrice\n",
    "    avg_sellingPrice = original_data[original_data[f\"{crop}.sellingPrice\"]>0][f\"{crop}.sellingPrice\"].mean()\n",
    "\n",
    "    if np.isnan(avg_sellingPrice):\n",
    "        avg_sellingPrice = 0.0\n",
    "    print(f\"{crop} - Average selling price: {avg_sellingPrice}\")\n",
    "    \n",
    "    # Get indexes of zero value\n",
    "    indexes_sellingPrice = original_data[(original_data[f\"{crop}.sellingPrice\"]==0)&(original_data[f\"{crop}.valueSales\"]>0)].index\n",
    "\n",
    "    # Input mean value\n",
    "    original_data.loc[indexes_sellingPrice, f\"{crop}.sellingPrice\"] = np.ones(len(indexes_sellingPrice))*avg_sellingPrice\n"
   ]
  },
  {
   "cell_type": "markdown",
   "metadata": {},
   "source": [
    "### Plot results"
   ]
  },
  {
   "cell_type": "code",
   "execution_count": 95,
   "metadata": {},
   "outputs": [],
   "source": [
    "import matplotlib.pyplot as plt\n",
    "import seaborn as sns"
   ]
  },
  {
   "cell_type": "markdown",
   "metadata": {},
   "source": [
    "## Computing statistics"
   ]
  },
  {
   "cell_type": "code",
   "execution_count": 96,
   "metadata": {},
   "outputs": [],
   "source": [
    "result_ = compute_statistics(original_data, synthetic_data, categoricals, REPORT_PATH, USE_CASE, YEAR)\n",
    "\n",
    "display(result_)"
   ]
  },
  {
   "cell_type": "code",
   "execution_count": 97,
   "metadata": {},
   "outputs": [],
   "source": [
    "similar_df = result_[result_[\"KS result\"]==\"Similar\"]\n",
    "print(f\"Number of similar variables: {similar_df.shape[0]}\")\n",
    "\n",
    "different_df = result_[result_[\"KS result\"]==\"Different\"]\n",
    "print(f\"Number of different variables: {different_df.shape[0]}\")\n"
   ]
  },
  {
   "cell_type": "code",
   "execution_count": 40,
   "metadata": {},
   "outputs": [],
   "source": [
    "nrows = 6\n",
    "ncols = 2\n",
    "\n",
    "for sheet_, batch_ in enumerate(batch([v for v in result_.index if (not v.endswith(\"sellingPrice\") and v not in [\"B_UT_20_A\"])], nrows*ncols)):\n",
    "    \n",
    "    make_plots(original_data, synthetic_data, batch_, nrows, ncols, sheet_, REPORT_PATH, USE_CASE, YEAR, REPORT=True)\n",
    "    "
   ]
  },
  {
   "cell_type": "markdown",
   "metadata": {},
   "source": [
    "# Compute ratios"
   ]
  },
  {
   "cell_type": "code",
   "execution_count": 102,
   "metadata": {},
   "outputs": [],
   "source": [
    "for var in [\"cultivatedArea\", \"cropProduction\", \"quantitySold\"]:\n",
    "    display(compute_ratios(original_data, synthetic_data, var))\n"
   ]
  },
  {
   "cell_type": "code",
   "execution_count": null,
   "metadata": {},
   "outputs": [],
   "source": []
  }
 ],
 "metadata": {
  "kernelspec": {
   "display_name": "Python 3 (ipykernel)",
   "language": "python",
   "name": "python3"
  }
 },
 "nbformat": 4,
 "nbformat_minor": 2
}
