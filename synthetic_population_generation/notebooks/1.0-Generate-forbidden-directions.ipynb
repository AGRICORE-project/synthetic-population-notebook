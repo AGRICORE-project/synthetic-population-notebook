{
 "cells": [
  {
   "cell_type": "code",
   "execution_count": 13,
   "metadata": {},
   "outputs": [],
   "source": [
    "import os\n",
    "import pandas as pd"
   ]
  },
  {
   "cell_type": "code",
   "execution_count": 14,
   "metadata": {},
   "outputs": [],
   "source": [
    "Crops = [\"quantitySold\", \n",
    "         \"valueSales\", \n",
    "         \"cropProduction\", \n",
    "         \"irrigatedArea\", \n",
    "         \"cultivatedArea\", \n",
    "         \"organicProductionType\", \n",
    "         \"variableCostsCrops\", \n",
    "         \"landValue\", \n",
    "         \"quantityUsed\", \n",
    "         \"sellingPrice\"]\n",
    "\n",
    "Animals = [\"numberOfAnimals\", \n",
    "           \"numberOfAnimalsSold\", \n",
    "           \"valueSoldAnimals\", \n",
    "           \"numberAnimalsRearingBreading\", \n",
    "           \"valueAnimalsRearingBreading\", \n",
    "           \"numberAnimalsForSlaughtering\", \n",
    "           \"valueSlaughteredAnimals\", \n",
    "           \"milkTotalProduction\", \n",
    "           \"milkProductionSold\", \n",
    "           \"milkTotalSales\", \n",
    "           \"milkVariableCosts\", \n",
    "           \"dairyCows\", \n",
    "           \"variableCostsAnimals\", \n",
    "           \"woolTotalProduction\", \n",
    "           \"woolProductionSold\", \n",
    "           \"eggsTotalProduction\", \n",
    "           \"eggsProductionSold\", \n",
    "           \"eggsTotalSales\", \n",
    "           \"manureTotalSales\", ]\n",
    "    \n",
    "Subsidies = [\n",
    "    \"policyIdentifier\", \n",
    "    \"policyDescription\", \n",
    "    \"isCoupled\", \n",
    "    \"value\",\n",
    "]\n",
    "\n",
    "Farm = [\n",
    "    \"lat\", \n",
    "    \"long\", \n",
    "    \"altitude\", \n",
    "    \"farmCode\", \n",
    "    \"technicalEconomicOrientation\", \n",
    "    \"weight_ra\", \n",
    "    \"regionLevel1Name\", \n",
    "    \"regionLevel2Name\", \n",
    "    \"regionLevel3Name\", \n",
    "    \"regionLevel1\", \n",
    "    \"regionLevel2\", \n",
    "    \"regionLevel3\", \n",
    "    \"weight_reg\", ]\n",
    "\n",
    "Economic = [\n",
    "    \"agriculturalLandArea\",\n",
    "    \"agriculturalLandValue\",\n",
    "    \"agriculturalLandHectaresAdquisition\",\n",
    "    \"landImprovements\", \n",
    "    \"forestLandArea\",\n",
    "    \"forestLandValue\",\n",
    "    \"farmBuildingsValue\", \n",
    "    \"machineryAndEquipment\", \n",
    "    \"intangibleAssetsTradable\", \n",
    "    \"intangibleAssetsNonTradable\", \n",
    "    \"otherNonCurrentAssets\", \n",
    "    \"longAndMediumTermLoans\", \n",
    "    \"totalCurrentAssets\", \n",
    "    \"farmNetIncome\", \n",
    "    \"grossFarmIncome\", \n",
    "    \"subsidiesOnInvestments\", \n",
    "    \"vatBalanceOnInvestments\", \n",
    "    \"totalOutputCropsAndCropProduction\", \n",
    "    \"totalOutputLivestockAndLivestockProduction\", \n",
    "    \"otherOutputs\", \n",
    "    \"totalIntermediateConsumption\", \n",
    "    \"taxes\", \n",
    "    \"vatBalanceExcludingInvestments\", \n",
    "    \"fixedAssets\", \n",
    "    \"depreciation\", \n",
    "    \"totalExternalFactors\", \n",
    "    \"machinery\",\n",
    "    \"rentBalance\", ]\n",
    "\n",
    "\n",
    "\n",
    "Holder = [\n",
    "    \"holderAge\", \n",
    "    \"holderGender\", \n",
    "    \"holderSuccessors\", \n",
    "    \"holderSuccessorsAge\", \n",
    "    \"holderFamilyMembers\", \n",
    "    \"yearNumber\", ]"
   ]
  },
  {
   "cell_type": "code",
   "execution_count": null,
   "metadata": {},
   "outputs": [],
   "source": []
  },
  {
   "cell_type": "code",
   "execution_count": null,
   "metadata": {},
   "outputs": [],
   "source": []
  },
  {
   "cell_type": "markdown",
   "metadata": {},
   "source": [
    "# Set forbidden directions\n",
    "Variable defined for ABM can be goruped in six main groups namely:  \n",
    "* ***Farm***: geospatial and techno-economical orientation of the farm. \n",
    "* ***Holder***: features of the holder of the farm. \n",
    "* ***Crops***: data about the crops produced, their areas, quantities...\n",
    "* ***Animals***: data about the animalas available in the farm, their producions and economical revenues.\n",
    "* ***Subsidies***: information about the subsidies managed in the farm. \n",
    "* ***Economic***: economical indicators of the farm at the end of the accountancy exercise.  \n",
    "  \n",
    "Considerig these major groups, some assumptions will be made to set the forbidden directions:\n",
    "1. Nothing affects ***Farm***. This will ensure that the features of the original population are replicated in the synthetic population.  \n",
    "2. ***Farm*** will affect all other groups. According to geospatial attributes, other values are generated.  \n",
    "3. ***Holder*** is only affected by ***Farm***.\n",
    "4. ***Crops*** is only affected by ***Farm***.\n",
    "5. ***Animals*** is only affected by ***Farm***.\n",
    "6. ***Subsidies*** is affected by ***Farm***, ***Holder***, ***Crops*** and ***Animals***, but it is not affected by ***Economic***.\n",
    "7. ***Economic*** is affected by all other groups, ***Farm***, ***Holder***, ***Crops***, ***Animals*** and ***Subsidies***.  \n",
    "  \n",
    "In this sense, and to define the forbidden directions between gorups:  \n",
    "1. ***Farm*** is not affected by ***Holder***, ***Crops***, ***Animals***, ***Subsidies*** and ***Economic***.  \n",
    "2. ***Holder*** is not affected by ***Crops***, ***Animals***, ***Subsidies*** and ***Economic***.  \n",
    "4. ***Crops*** is not affected by ***Holder***, ***Animals***, ***Subsidies*** and ***Economic***.  \n",
    "5. ***Animals*** is not affected by ***Holder***, ***Crops***, ***Subsidies*** and ***Economic***.  \n",
    "6. ***Subsidies*** is not affected by ***Economic***.  \n",
    "  "
   ]
  },
  {
   "cell_type": "markdown",
   "metadata": {},
   "source": [
    "## Inter-groups forbidden directions"
   ]
  },
  {
   "cell_type": "code",
   "execution_count": 15,
   "metadata": {},
   "outputs": [],
   "source": [
    "fd = pd.DataFrame(columns=[\"from\", \"to\"])"
   ]
  },
  {
   "cell_type": "code",
   "execution_count": 16,
   "metadata": {},
   "outputs": [],
   "source": [
    "fd_groups = {\n",
    "    \"Farm\": [\"Holder\", \"Crops\", \"Animals\", \"Subsidies\", \"Economic\"], \n",
    "    \"Holder\": [\"Crops\", \"Animals\", \"Subsidies\", \"Economic\"], \n",
    "    \"Crops\": [\"Holder\", \"Animals\", \"Subsidies\", \"Economic\"], \n",
    "    \"Animals\": [\"Holder\", \"Crops\", \"Subsidies\", \"Economic\"], \n",
    "    \"Subsidies\": [\"Economic\"], \n",
    "    }\n"
   ]
  },
  {
   "cell_type": "code",
   "execution_count": 17,
   "metadata": {},
   "outputs": [],
   "source": [
    "for to_group in fd_groups.keys():\n",
    "    for to_var in eval(to_group):\n",
    "        for from_group in fd_groups[to_group]:\n",
    "            for from_var in eval(from_group):\n",
    "                fd = pd.concat([fd, pd.DataFrame({\"from\": [from_var], \"to\": [to_var]})])\n"
   ]
  },
  {
   "cell_type": "markdown",
   "metadata": {},
   "source": [
    "# Intra-groups forbidden directions"
   ]
  },
  {
   "cell_type": "code",
   "execution_count": 18,
   "metadata": {},
   "outputs": [],
   "source": [
    "#   Son: Parents\n",
    "intra_group_crops = {\n",
    "    \"cultivatedArea\":        [], \n",
    "    \"irrigatedArea\":         [\"cultivatedArea\", \"landValue\", ], \n",
    "    \"cropProduction\":        [\"cultivatedArea\", \"irrigatedArea\", \"organicProductionType\", \"variableCostsCrops\", \"landValue\", ], \n",
    "    \"quantitySold\":          [\"cultivatedArea\", \"irrigatedArea\", \"cropProduction\", \"organicProductionType\", \"variableCostsCrops\", \"landValue\", ], \n",
    "    \"quantityUsed\":          [\"cultivatedArea\", \"irrigatedArea\", \"cropProduction\", \"organicProductionType\", \"variableCostsCrops\", \"landValue\", ], \n",
    "    \"valueSales\":            [\"cultivatedArea\", \"irrigatedArea\", \"cropProduction\", \"quantitySold\", \"organicProductionType\", \"variableCostsCrops\", \"landValue\", \"sellingPrice\"], \n",
    "    \"organicProductionType\": [\"cropProduction\", \"quantitySold\", \"valueSales\", ], \n",
    "    \"variableCostsCrops\":    [\"cultivatedArea\", \"irrigatedArea\", \"organicProductionType\", \"landValue\", ], \n",
    "    \"landValue\":             [\"cultivatedArea\", \"irrigatedArea\", ], \n",
    "    \"sellingPrice\":          [\"organicProductionType\"], \n",
    "}\n",
    "\n",
    "inter_group_animals = {\n",
    "    'numberOfAnimals': [],\n",
    "    'numberOfAnimalsSold':          [\"numberOfAnimals\", ],\n",
    "    'valueSoldAnimals':             [\"numberOfAnimals\", \"numberOfAnimalsSold\", ],\n",
    "    'numberAnimalsRearingBreading': [\"numberOfAnimals\", ],\n",
    "    'valueAnimalsRearingBreading':  [\"numberOfAnimals\", \"numberAnimalsRearingBreading\", ],\n",
    "    'numberAnimalsForSlaughtering': [\"numberOfAnimals\", ],\n",
    "    'valueSlaughteredAnimals':      [\"numberOfAnimals\", \"numberAnimalsForSlaughtering\", ],\n",
    "    'milkTotalProduction':          [\"numberOfAnimals\", \"dairyCows\", ],\n",
    "    'milkProductionSold':           [\"numberOfAnimals\", \"milkTotalProduction\", \"dairyCows\", ], \n",
    "    'milkTotalSales':               [\"numberOfAnimals\", \"milkTotalProduction\", \"milkProductionSold\", \"dairyCows\", ],\n",
    "    'milkVariableCosts':            [\"numberOfAnimals\", \"numberOfAnimalsSold\", \"valueSoldAnimals\", \"numberAnimalsRearingBreading\", \"valueAnimalsRearingBreading\", \"numberAnimalsForSlaughtering\", \"valueSlaughteredAnimals\", \"milkTotalProduction\", \"milkProductionSold\", \"milkTotalSales\", \"milkVariableCosts\", \"dairyCows\", \"variableCostsAnimals\", \"woolTotalProduction\", \"woolProductionSold\", \"eggsTotalProduction\", \"eggsProductionSold\", \"eggsTotalSales\", \"manureTotalSales\", ],\n",
    "    'dairyCows':                    [\"numberOfAnimals\", ],\n",
    "    'variableCostsAnimals':         [\"numberOfAnimals\", \"numberAnimalsRearingBreading\", \"numberAnimalsForSlaughtering\", \"milkTotalProduction\", \"milkVariableCosts\", \"dairyCows\", \"woolTotalProduction\", \"eggsTotalProduction\", ],\n",
    "    'woolTotalProduction':          [\"numberOfAnimals\", ],\n",
    "    'woolProductionSold':           [\"numberOfAnimals\", \"woolTotalProduction\", ],\n",
    "    'eggsTotalProduction':          [\"numberOfAnimals\", \"eggsProductionSold\", \"eggsTotalSales\", \"manureTotalSales\", ],\n",
    "    'eggsProductionSold':           [\"numberOfAnimals\", \"eggsTotalProduction\", ],\n",
    "    'eggsTotalSales':               [\"numberOfAnimals\", \"eggsTotalProduction\", \"eggsProductionSold\", ],\n",
    "    'manureTotalSales':             [\"numberOfAnimals\", ],\n",
    "    #'valueSold':                    [\"valueSoldAnimals\", \"valueAnimalsRearingBreading\", \"valueSlaughteredAnimals\", \"milkProductionSold\", \"milkTotalSales\", \"woolProductionSold\", \"eggsProductionSold\", \"eggsTotalSales\", \"manureTotalSales\", \"valueSold\", ]\n",
    "    }\n"
   ]
  },
  {
   "cell_type": "code",
   "execution_count": null,
   "metadata": {},
   "outputs": [],
   "source": [
    "for from_var in intra_group_crops.keys():\n",
    "    for to_var in intra_group_crops[from_var]:\n",
    "        print(f'from {from_var} to {to_var}')\n",
    "        fd = pd.concat([fd, pd.DataFrame({\"from\": [from_var], \"to\": [to_var]})])"
   ]
  },
  {
   "cell_type": "code",
   "execution_count": null,
   "metadata": {},
   "outputs": [],
   "source": [
    "for from_var in inter_group_animals.keys():\n",
    "    for to_var in inter_group_animals[from_var]:\n",
    "        print(f'from {from_var} to {to_var}')\n",
    "        fd = pd.concat([fd, pd.DataFrame({\"from\": [from_var], \"to\": [to_var]})])"
   ]
  },
  {
   "cell_type": "code",
   "execution_count": null,
   "metadata": {},
   "outputs": [],
   "source": [
    "fd"
   ]
  },
  {
   "cell_type": "markdown",
   "metadata": {},
   "source": [
    "# Subsidies"
   ]
  },
  {
   "cell_type": "code",
   "execution_count": 22,
   "metadata": {},
   "outputs": [],
   "source": [
    "for from_var in [\"policyDescription\", \"policyIdentifier\", \"isCoupled\"]:    \n",
    "    for to_group in fd_groups.keys():\n",
    "        for to_var in eval(to_group):\n",
    "            fd = pd.concat([fd, pd.DataFrame({\"from\": [from_var], \"to\": [to_var]})])\n",
    "            #print(f\"from: {[from_var]}, to: {[to_var]})]\")\n",
    "            \n",
    "for from_group in fd_groups[to_group]:\n",
    "    for from_var in eval(from_group):\n",
    "        for to_var in [\"policyDescription\", \"policyIdentifier\", \"isCoupled\"]:    \n",
    "            fd = pd.concat([fd, pd.DataFrame({\"from\": [from_var], \"to\": [to_var]})])\n",
    "            #print(f\"from: {[from_var]}, to: {[to_var]})]\")\n"
   ]
  },
  {
   "cell_type": "code",
   "execution_count": null,
   "metadata": {},
   "outputs": [],
   "source": [
    "# Categorical policy variables do not affect anything, and they are not affected by anyth\n",
    "fd"
   ]
  },
  {
   "cell_type": "code",
   "execution_count": 24,
   "metadata": {},
   "outputs": [],
   "source": [
    "fd.to_csv(\"./../data/use_case_andalusia/metadata/forbidden_directions_v2.csv\", index=False)\n",
    "fd.to_csv(\"./../data/use_case_andalusia2/metadata/forbidden_directions_v2.csv\", index=False)\n",
    "fd.to_csv(\"./../data/use_case_andalusia3/metadata/forbidden_directions_v2.csv\", index=False)\n",
    "fd.to_csv(\"./../data/use_case_andalusia4/metadata/forbidden_directions_v2.csv\", index=False)\n"
   ]
  },
  {
   "cell_type": "code",
   "execution_count": null,
   "metadata": {},
   "outputs": [],
   "source": []
  },
  {
   "cell_type": "code",
   "execution_count": null,
   "metadata": {},
   "outputs": [],
   "source": []
  }
 ],
 "metadata": {
  "kernelspec": {
   "display_name": "agricore_env",
   "language": "python",
   "name": "python3"
  },
  "language_info": {
   "codemirror_mode": {
    "name": "ipython",
    "version": 3
   },
   "file_extension": ".py",
   "mimetype": "text/x-python",
   "name": "python",
   "nbconvert_exporter": "python",
   "pygments_lexer": "ipython3",
   "version": "3.8.10"
  }
 },
 "nbformat": 4,
 "nbformat_minor": 2
}
