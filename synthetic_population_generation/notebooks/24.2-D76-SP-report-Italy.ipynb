{
 "cells": [
  {
   "cell_type": "code",
   "execution_count": 1,
   "metadata": {},
   "outputs": [],
   "source": [
    "import os\n",
    "import pandas as pd\n",
    "import numpy as np\n",
    "import matplotlib.pyplot as plt\n",
    "\n",
    "BASE_DIR = \"./..\"\n",
    "\n",
    "os.chdir(BASE_DIR)\n",
    "from src.report_functions import *\n"
   ]
  },
  {
   "cell_type": "code",
   "execution_count": 2,
   "metadata": {},
   "outputs": [],
   "source": [
    "pd.options.display.float_format = '{:.2f}'.format\n",
    "\n",
    "DATA_PATH = \"./data\"\n"
   ]
  },
  {
   "cell_type": "code",
   "execution_count": 4,
   "metadata": {},
   "outputs": [],
   "source": [
    "USE_CASE = \"italy\"\n",
    "BASE_PATH = f\"./data/use_case_{USE_CASE}\"\n",
    "TOTALS_VARIABLES = [\"cultivatedArea\"]\n",
    "\n",
    "microdata_abrev = {\n",
    "    \"andalusia\": \"AND\", \n",
    "    \"italy\": \"ITA\", \n",
    "}\n",
    "\n",
    "YEAR = 2019\n",
    "\n",
    "FIGURES_DEST_PATH = os.path.join(BASE_PATH, \"figures\")"
   ]
  },
  {
   "cell_type": "code",
   "execution_count": 6,
   "metadata": {},
   "outputs": [],
   "source": [
    "REPORT_PATH = f\"./data/use_case_{USE_CASE}/report\"\n",
    "\n",
    "if not \"report\" in os.listdir(f\"./data/use_case_{USE_CASE}\"):\n",
    "    os.mkdir(f\"./data/use_case_{USE_CASE}/report\")\n",
    "    print(\"Report directory created\")\n",
    "else:\n",
    "    print(\"Report directory already exists\")"
   ]
  },
  {
   "cell_type": "markdown",
   "metadata": {},
   "source": [
    "### 1 Load original data"
   ]
  },
  {
   "cell_type": "code",
   "execution_count": 7,
   "metadata": {},
   "outputs": [],
   "source": [
    "try:\n",
    "    original_ = pd.read_csv(f\"./data/use_case_{USE_CASE}/microdata_agricore_format/microdata_agricore_format_{YEAR}.csv\")\n",
    "    weights = pd.read_csv(f\"./data/use_case_{USE_CASE}/microdata_agricore_format/weights_{YEAR}.csv\")\n",
    "    categoricals = pd.read_csv(f\"./data/use_case_{USE_CASE}/microdata_agricore_format/categoricals.csv\")[\"0\"].tolist()\n",
    "\n",
    "    print(\"Data already loaded\")\n",
    "\n",
    "except:\n",
    "    from src.italian_name_conversion import italian_name_conversion\n",
    "\n",
    "    crops_variables = [\"quantitySold\", \"valueSales\", \"cropProduction\", \"irrigatedArea\", \"cultivatedArea\", \"organicProductionType\", \"variableCostsCrops\", \"landValue\", \"quantityUsed\", \"sellingPrice\"]\n",
    "\n",
    "    METADATA_PATH = os.path.join(BASE_PATH, \"metadata\")\n",
    "    CROPS_CODES_PATH = \"Product_Mapping.csv\"\n",
    "\n",
    "    crop_codes = pd.read_csv(os.path.join(METADATA_PATH, CROPS_CODES_PATH))\n",
    "    crop_codes = crop_codes[\"CUSTOM GROUP (EN)\"].drop_duplicates().dropna().unique().tolist()\n",
    "\n",
    "    totals_variables = [\"cultivatedArea\", \"irrigatedArea\", \"cropProduction\"]\n",
    "\n",
    "    original_, categoricals, weights = italian_name_conversion(\n",
    "                    BASE_PATH, USE_CASE, YEAR, crops_variables, crop_codes, totals_variables)\n",
    "\n",
    "    if not \"microdata_agricore_format\" in os.listdir(f\"./data/use_case_{USE_CASE}\"):\n",
    "        os.mkdir(f\"./data/use_case_{USE_CASE}/microdata_agricore_format\")\n",
    "        print(\"Microdata directory created\")\n",
    "    else:\n",
    "        print(\"Microdata directory already exists\")\n",
    "\n",
    "    original_.to_csv(f\"./data/use_case_{USE_CASE}/microdata_agricore_format/microdata_agricore_format_{YEAR}.csv\", index=False)\n",
    "    weights.to_csv(f\"./data/use_case_{USE_CASE}/microdata_agricore_format/weights_{YEAR}.csv\", index=False)\n",
    "    pd.DataFrame(categoricals).to_csv(f\"./data/use_case_{USE_CASE}/microdata_agricore_format/categoricals.csv\", index=False)\n"
   ]
  },
  {
   "cell_type": "markdown",
   "metadata": {},
   "source": [
    "### Upsample original data"
   ]
  },
  {
   "cell_type": "code",
   "execution_count": 8,
   "metadata": {},
   "outputs": [],
   "source": [
    "np.random.seed(28)\n",
    "original_data = original_.loc[original_.index.repeat(weights.to_numpy().flatten())].reset_index(drop=True)\n",
    "\n",
    "print(f\"Shape of the original data {original_.shape}\")\n",
    "print(f\"Shape of the upsampled data {original_data.shape}\")"
   ]
  },
  {
   "cell_type": "markdown",
   "metadata": {},
   "source": [
    "### Load synthetic data"
   ]
  },
  {
   "cell_type": "code",
   "execution_count": 9,
   "metadata": {},
   "outputs": [],
   "source": [
    "SYNTHETIC_DATA_PATH = os.path.join(BASE_PATH, \"synthetic_population\")\n",
    "\n",
    "for file in os.listdir(SYNTHETIC_DATA_PATH):\n",
    "    \n",
    "    if file.startswith(f'Synthetic-Population-{USE_CASE}-{YEAR}'):\n",
    "        print(file)\n"
   ]
  },
  {
   "cell_type": "code",
   "execution_count": 10,
   "metadata": {},
   "outputs": [],
   "source": [
    "SYNTHETIC_DATA_FILE = \"Synthetic-Population-italy-2019-8-20-0-3.csv\"\n",
    "\n",
    "synthetic_data = pd.read_csv(os.path.join(SYNTHETIC_DATA_PATH, SYNTHETIC_DATA_FILE))"
   ]
  },
  {
   "cell_type": "code",
   "execution_count": 11,
   "metadata": {},
   "outputs": [],
   "source": [
    "synthetic_data.head()"
   ]
  },
  {
   "cell_type": "code",
   "execution_count": 14,
   "metadata": {},
   "outputs": [],
   "source": [
    "print(f\"Synthetic data after cleaning: {synthetic_data.shape}\")"
   ]
  },
  {
   "cell_type": "markdown",
   "metadata": {},
   "source": [
    "#### Resample original data according synthetic data size"
   ]
  },
  {
   "cell_type": "code",
   "execution_count": 15,
   "metadata": {},
   "outputs": [],
   "source": [
    "n_farms_original = int(weights.sum())\n",
    "print(f\"Number of farms original: {n_farms_original}\")\n",
    "\n",
    "n_farms_synthetic = synthetic_data.shape[0]\n",
    "print(f\"Number of farms synthetic: {n_farms_synthetic}\")\n",
    "\n",
    "sampling_ratio = n_farms_synthetic/n_farms_original\n",
    "print(f\"Sampling ratio: {sampling_ratio}\")\n",
    "print(f\"Sampling {round(sampling_ratio, 4)*100} % of original farms\")\n",
    "\n",
    "RESAMPLE = False\n",
    "\n",
    "if sampling_ratio < 1 and RESAMPLE:\n",
    "    original_data = original_data.sample(frac=sampling_ratio, replace=False, random_state=28)\n",
    "    #synthetic_data = synthetic_data.sample(n=n_farms_original, replace=False, random_state=28)\n",
    "else:\n",
    "    print(\"No need to resample\")"
   ]
  },
  {
   "cell_type": "code",
   "execution_count": 16,
   "metadata": {},
   "outputs": [],
   "source": [
    "n_farms_original = original_data.shape[0]\n",
    "print(f\"Number of farms original: {n_farms_original}\")\n",
    "\n",
    "n_farms_synthetic = synthetic_data.shape[0]\n",
    "print(f\"Number of farms synthetic: {n_farms_synthetic}\")"
   ]
  },
  {
   "cell_type": "code",
   "execution_count": 17,
   "metadata": {},
   "outputs": [],
   "source": [
    "def fill_zero_records(df, var):\n",
    "    \"\"\"\n",
    "    Fill the records with zero values according other values in the dataset.\n",
    "\n",
    "    Args:\n",
    "        df (pd.DataFrame): DataFrame with the data.\n",
    "        var (str): Variable to fill the zeros.\n",
    "    Returns:\n",
    "        df (pd.DataFrame): DataFrame with the zeros filled.\n",
    "    \"\"\"\n",
    "    # Compute normalized probability for each category different from zero\n",
    "    _proba = df[df[var]!=0][var].value_counts().to_dict()\n",
    "    sum_proba = sum(_proba.values())\n",
    "    _proba = {k: v/sum_proba for k, v in _proba.items()}\n",
    "\n",
    "    # Compute the number of zeros to be filled\n",
    "    n_zeros = df[df[var]==0].shape[0]\n",
    "\n",
    "    # Generate random values to fill the zeros\n",
    "    var_random = np.random.choice(list(_proba.keys()), size=n_zeros, p=list(_proba.values()))\n",
    "\n",
    "    # Fill the zeros with random values\n",
    "    df.loc[df[var]==0, var] = var_random\n",
    "\n",
    "    return df\n"
   ]
  },
  {
   "cell_type": "markdown",
   "metadata": {},
   "source": [
    "#### Fix regionLevel2"
   ]
  },
  {
   "cell_type": "code",
   "execution_count": 18,
   "metadata": {},
   "outputs": [],
   "source": [
    "def fix_region_level2(df):\n",
    "    \"\"\"\n",
    "    Replace records in populations with regionLevel2 equal to zero by the appropiate regionLevel2 code according to the regionLevel2Name.\n",
    "    \"\"\"\n",
    "    problematic_regions = df.iloc[df[df[\"regionLevel2\"]==\"0\"].index][\"regionLevel2Name\"].unique().tolist()\n",
    "\n",
    "    for rl2_name in problematic_regions:\n",
    "        associated_codes = df[df[\"regionLevel2Name\"]==rl2_name][\"regionLevel2\"].value_counts().index.tolist()\n",
    "        associated_codes = [code for code in associated_codes if code != \"0\"]\n",
    "\n",
    "        if len(associated_codes)==1:\n",
    "            link_dict = {rl2_name: associated_codes[0]}\n",
    "\n",
    "            df.loc[df[\"regionLevel2Name\"]==rl2_name, \"regionLevel2\"] = associated_codes[0]\n",
    "\n",
    "    return df\n",
    "\n",
    "\n",
    "original_data = fix_region_level2(original_data)\n",
    "synthetic_data = fix_region_level2(synthetic_data)        "
   ]
  },
  {
   "cell_type": "markdown",
   "metadata": {},
   "source": [
    "#### Fix holderFamilyMemembers datatype"
   ]
  },
  {
   "cell_type": "code",
   "execution_count": 19,
   "metadata": {},
   "outputs": [],
   "source": [
    "original_data[\"holderFamilyMembers\"] = original_data[\"holderFamilyMembers\"].astype(int)\n",
    "synthetic_data[\"holderFamilyMembers\"] = synthetic_data[\"holderFamilyMembers\"].astype(int)"
   ]
  },
  {
   "cell_type": "markdown",
   "metadata": {},
   "source": [
    "#### Fix taxes sign"
   ]
  },
  {
   "cell_type": "code",
   "execution_count": 20,
   "metadata": {},
   "outputs": [],
   "source": [
    "original_data[\"taxes\"] = original_data[\"taxes\"].apply(lambda x: np.abs(x))\n",
    "synthetic_data[\"taxes\"] = synthetic_data[\"taxes\"].apply(lambda x: np.abs(x))"
   ]
  },
  {
   "cell_type": "markdown",
   "metadata": {},
   "source": [
    "#### Fix manureTotalSales"
   ]
  },
  {
   "cell_type": "code",
   "execution_count": 22,
   "metadata": {},
   "outputs": [],
   "source": [
    "for animal in [a.split(\".\")[0] for a in synthetic_data.columns if a.endswith(\"manureTotalSales\")]:\n",
    "    print(animal)\n",
    "    display(pd.concat([original_data[f\"{animal}.manureTotalSales\"].describe().rename(\"Original\"), \n",
    "                       synthetic_data[f\"{animal}.manureTotalSales\"].describe().rename(\"Synthetic\"), \n",
    "    ], axis=1))\n",
    "    #original_data[f\"{animal}.manureTotalSales\"] = original_data.apply(lambda x: x[f\"{animal}.valueSales\"]/x[f\"{animal}.quantitySold\"] if x[f\"{animal}.quantitySold\"]>0 else 0, axis=1)\n",
    "    synthetic_data[f\"{animal}.manureTotalSales\"] = 0.0"
   ]
  },
  {
   "cell_type": "markdown",
   "metadata": {},
   "source": [
    "### Plot results"
   ]
  },
  {
   "cell_type": "code",
   "execution_count": 23,
   "metadata": {},
   "outputs": [],
   "source": [
    "import matplotlib.pyplot as plt\n",
    "import seaborn as sns"
   ]
  },
  {
   "cell_type": "code",
   "execution_count": 24,
   "metadata": {},
   "outputs": [],
   "source": [
    "plot_categoricals(original_data, synthetic_data, categoricals, REPORT_PATH, USE_CASE, YEAR)\n"
   ]
  },
  {
   "cell_type": "markdown",
   "metadata": {},
   "source": [
    "## Computing statistics"
   ]
  },
  {
   "cell_type": "code",
   "execution_count": 25,
   "metadata": {},
   "outputs": [],
   "source": [
    "result_ = compute_statistics(original_data, synthetic_data, categoricals, REPORT_PATH, USE_CASE, YEAR)\n",
    "\n",
    "display(result_)"
   ]
  },
  {
   "cell_type": "code",
   "execution_count": 26,
   "metadata": {},
   "outputs": [],
   "source": [
    "similar_df = result_[result_[\"KS result\"]==\"Similar\"]\n",
    "print(f\"Number of similar variables: {similar_df.shape[0]}\")\n",
    "\n",
    "different_df = result_[result_[\"KS result\"]==\"Different\"]\n",
    "print(f\"Number of different variables: {different_df.shape[0]}\")\n"
   ]
  },
  {
   "cell_type": "code",
   "execution_count": 27,
   "metadata": {},
   "outputs": [],
   "source": [
    "pd.concat([original_data[original_data[\"CER.cropProduction\"]>0][\"CER.cropProduction\"].describe().rename(\"Original\").to_frame(), \n",
    "synthetic_data[synthetic_data[\"CER.cropProduction\"]>0][\"CER.cropProduction\"].describe().rename(\"Original\").to_frame(), ], axis=1)\n"
   ]
  },
  {
   "cell_type": "code",
   "execution_count": 28,
   "metadata": {},
   "outputs": [],
   "source": [
    "nrows = 6\n",
    "ncols = 2\n",
    "\n",
    "for sheet_, batch_ in enumerate(batch(list(different_df.index), nrows*ncols)):\n",
    "    \n",
    "    make_plots(original_data, synthetic_data, batch_, nrows, ncols, sheet_, REPORT_PATH, USE_CASE, YEAR, REPORT=True)\n",
    "    "
   ]
  },
  {
   "cell_type": "markdown",
   "metadata": {},
   "source": [
    "# Compute ratios"
   ]
  },
  {
   "cell_type": "code",
   "execution_count": 29,
   "metadata": {},
   "outputs": [],
   "source": [
    "for var in [\"cultivatedArea\", \"cropProduction\", \"quantitySold\"]:\n",
    "    display(compute_ratios(original_data, synthetic_data, var))\n"
   ]
  },
  {
   "cell_type": "code",
   "execution_count": null,
   "metadata": {},
   "outputs": [],
   "source": []
  }
 ],
 "metadata": {
  "kernelspec": {
   "display_name": "Python 3 (ipykernel)",
   "language": "python",
   "name": "python3"
  }
 },
 "nbformat": 4,
 "nbformat_minor": 2
}
