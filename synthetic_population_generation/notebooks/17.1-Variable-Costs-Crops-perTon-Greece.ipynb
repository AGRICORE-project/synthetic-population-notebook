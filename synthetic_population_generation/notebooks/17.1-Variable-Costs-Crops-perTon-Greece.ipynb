{
 "cells": [
  {
   "cell_type": "code",
   "execution_count": null,
   "metadata": {},
   "outputs": [],
   "source": [
    "import os\n",
    "import pandas as pd\n",
    "import pulp as pl\n",
    "\n",
    "os.chdir(\"./../\")\n",
    "from src.VariableNameConversion import VariableNameConversion\n",
    "\n",
    "print(os.getcwd())\n"
   ]
  },
  {
   "cell_type": "code",
   "execution_count": null,
   "metadata": {},
   "outputs": [],
   "source": [
    "requested_number_of_farms = 1000\n",
    "USE_CASE = \"greece\"\n",
    "BASE_PATH = f\"./data/use_case_{USE_CASE}\"\n",
    "YEAR = \"2014\"\n",
    "\n",
    "TOTALS_VARIABLES = [\"cultivatedArea\"]\n",
    "\n",
    "vnc = VariableNameConversion(BASE_PATH, USE_CASE, YEAR, TOTALS_VARIABLES)\n",
    "\n",
    "sp_end, _, _ = vnc.main()"
   ]
  },
  {
   "cell_type": "code",
   "execution_count": 8,
   "metadata": {},
   "outputs": [],
   "source": [
    "data = pd.read_csv(\"./../microdata_for_cost_crop_computing.csv\")\n",
    "\n",
    "data[[\"specificCropCosts\"]].head()\n",
    "data = sp_end.copy(deep=True)"
   ]
  },
  {
   "cell_type": "code",
   "execution_count": null,
   "metadata": {},
   "outputs": [],
   "source": [
    "data[[c for c in data.columns if c.startswith(\"CER\")]]"
   ]
  },
  {
   "cell_type": "code",
   "execution_count": 23,
   "metadata": {},
   "outputs": [],
   "source": [
    "class CostCropComputer():\n",
    "    def __init__(self, data):\n",
    "        \n",
    "        #farms = random.sample(range(data.shape[0]), 200)\n",
    "        #data = data.iloc[farms]\n",
    "        \n",
    "        # Process data\n",
    "        self.data, self.A, self.y, self.crops = self._preprocess_data(data)\n",
    "        \n",
    "        self.farms = self.data.shape[0]\n",
    "\n",
    "\n",
    "    def _preprocess_data(self, data):\n",
    "        \"\"\"\n",
    "        Select required variables to compute crop specific costs\n",
    "        \"\"\"\n",
    "        \n",
    "        cultivatedArea_variables = [var for var in data.columns if \".cultivatedArea\" in var]\n",
    "        quantitySold_variables = [var for var in data.columns if \".quantitySold\" in var]\n",
    "        crops = [var.replace(\".cultivatedArea\", \"\") for var in cultivatedArea_variables]\n",
    "\n",
    "        data = data[cultivatedArea_variables + quantitySold_variables + [\"specificCropCosts\"]]\n",
    "\n",
    "        data[\"totalCultivatedArea\"] = data.apply(lambda x: x[cultivatedArea_variables].sum(), axis=1)\n",
    "\n",
    "        data[\"totalCost\"] = data.apply(lambda x: x[\"specificCropCosts\"]*x[\"totalCultivatedArea\"], axis=1)\n",
    "\n",
    "        data = data[(data[\"totalCultivatedArea\"]>0)&(data[\"specificCropCosts\"]>0)]\n",
    "        \n",
    "        A = data[quantitySold_variables].to_numpy()\n",
    "        y = data[\"totalCost\"].to_numpy()\n",
    "\n",
    "        return data, A, y, crops\n",
    "    \n",
    "\n",
    "    def main(self):\n",
    "\n",
    "        model = pl.LpProblem(name=\"crop-cost-computing\", sense=pl.LpMinimize)\n",
    "\n",
    "        # Initialize decison variables | costs per crop\n",
    "        # x = [x_{crop1}, x_{crop2}, ..., x_{cropm}]\n",
    "        x_crop = {}\n",
    "\n",
    "        for crop in self.crops:\n",
    "            x_crop[crop] = pl.LpVariable(name=f\"x_{crop}\", lowBound=0, upBound=100)\n",
    "\n",
    "        # Initialize slack variables\n",
    "        h_slack = {}\n",
    "        for farm in range(self.farms):\n",
    "            h_slack[farm] = pl.LpVariable(name=f\"h_{farm}\", lowBound=0)\n",
    "        \n",
    "        # Define equations\n",
    "        for i, farm in enumerate(range(self.farms)):\n",
    "            equation = self.y[i] - h_slack[i] - pl.lpSum([(x_crop[crop]*self.A[i, j]) for j, crop in enumerate(self.crops)]) == 0\n",
    "            model += equation\n",
    "\n",
    "        # Define objective function\n",
    "        model += pl.lpSum(list(h_slack.values()))\n",
    "        \n",
    "        \n",
    "        #model.writeLP(\"LP.lp\")\n",
    "\n",
    "        # Solve optimisation problem\n",
    "        status = model.solve()\n",
    "\n",
    "        # Show problem solution\n",
    "        print(f\"status: {model.status}, {pl.LpStatus[model.status]}\")\n",
    "        print(f\"objective: {model.objective.value()}\")\n",
    "\n",
    "        # Compos results\n",
    "        result = pd.DataFrame(((var.name, var.value()) for var in model.variables() if var.name.startswith(\"x\")), columns=[\"Crop\", \"variableCostsCrops [€/Ton]\"])\n",
    "        result[\"Crop\"] = result.apply(lambda x: x[\"Crop\"].replace(\"x_\", \"\"), axis=1)\n",
    "\n",
    "\n",
    "        \n",
    "        return result\n",
    "        "
   ]
  },
  {
   "cell_type": "code",
   "execution_count": null,
   "metadata": {},
   "outputs": [],
   "source": [
    "ccc = CostCropComputer(data)\n",
    "\n",
    "x = ccc.main()"
   ]
  },
  {
   "cell_type": "code",
   "execution_count": null,
   "metadata": {},
   "outputs": [],
   "source": [
    "x"
   ]
  },
  {
   "cell_type": "code",
   "execution_count": 26,
   "metadata": {},
   "outputs": [],
   "source": [
    "x.to_csv(\"./../complete_execution_andalucia/data/use_case_greece/metadata/Crop-costs-deploy.csv\", index=False)"
   ]
  },
  {
   "cell_type": "code",
   "execution_count": null,
   "metadata": {},
   "outputs": [],
   "source": []
  }
 ],
 "metadata": {
  "kernelspec": {
   "display_name": "agricore_env",
   "language": "python",
   "name": "python3"
  },
  "language_info": {
   "codemirror_mode": {
    "name": "ipython",
    "version": 3
   },
   "file_extension": ".py",
   "mimetype": "text/x-python",
   "name": "python",
   "nbconvert_exporter": "python",
   "pygments_lexer": "ipython3",
   "version": "3.8.10"
  }
 },
 "nbformat": 4,
 "nbformat_minor": 2
}
