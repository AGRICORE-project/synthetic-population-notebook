{
 "cells": [
  {
   "cell_type": "code",
   "execution_count": 1,
   "metadata": {},
   "outputs": [],
   "source": [
    "import os\n",
    "import pandas as pd\n",
    "import matplotlib.pyplot as plt"
   ]
  },
  {
   "cell_type": "code",
   "execution_count": 2,
   "metadata": {},
   "outputs": [],
   "source": [
    "USE_CASES = [\"andalusia\", \"italy\", \"greece\", \"poland\"]\n",
    "\n",
    "use_case = \"andalusia\"\n",
    "\n",
    "BASE_PATH = f\"./../data/use_case_{use_case}\""
   ]
  },
  {
   "cell_type": "code",
   "execution_count": 5,
   "metadata": {},
   "outputs": [],
   "source": [
    "UC_LINK = {\n",
    "    \"andalusia\": \"AND\",\n",
    "    \"italy\": \"ITA\", \n",
    "    \"greece\": \"ELL\", \n",
    "    \"poland\": \"POL\"\n",
    "}"
   ]
  },
  {
   "cell_type": "code",
   "execution_count": 33,
   "metadata": {},
   "outputs": [],
   "source": [
    "microdata_ = pd.DataFrame(columns=[\"A_ID_10_H\"])\n",
    "\n",
    "land_transaction_variables = [\"A_ID_10_H\", \"B_UO_10_A\", ]#'B_UT_20_A', 'B_US_30_A',]\n",
    "\n",
    "for y in range(2014, 2021):\n",
    "    MICRODATA_FILEPATH = os.path.join(BASE_PATH, f\"microdata/AND{y}.csv\")\n",
    "\n",
    "    df_ = pd.read_csv(MICRODATA_FILEPATH)[land_transaction_variables].rename(columns={\"B_UO_10_A\": f\"B_UO_10_A_{y}\"})\n",
    "\n",
    "    df_[f\"B_UO_10_A_{y}\"] = df_[f\"B_UO_10_A_{y}\"].apply(lambda x: x/100)\n",
    "\n",
    "    microdata_ = pd.merge(microdata_, df_, on=[\"A_ID_10_H\"], how=\"outer\")\n",
    "\n"
   ]
  },
  {
   "cell_type": "code",
   "execution_count": null,
   "metadata": {},
   "outputs": [],
   "source": [
    "microdata_"
   ]
  },
  {
   "cell_type": "code",
   "execution_count": null,
   "metadata": {},
   "outputs": [],
   "source": [
    "for y in range(2014, 2020):\n",
    "    first_year = y\n",
    "    second_year = y+1\n",
    "    print(first_year, second_year)\n",
    "\n",
    "    microdata_[f\"Diff-{first_year}-{second_year}\"] = microdata_.apply(lambda x: x[f\"B_UO_10_A_{second_year}\"] - x[f\"B_UO_10_A_{first_year}\"], axis=1)\n"
   ]
  },
  {
   "cell_type": "code",
   "execution_count": null,
   "metadata": {},
   "outputs": [],
   "source": [
    "microdata_\n"
   ]
  },
  {
   "cell_type": "code",
   "execution_count": null,
   "metadata": {},
   "outputs": [],
   "source": [
    "plt.title(\"Land transactions distribution\")\n",
    "\n",
    "for c in [cc for cc in microdata_.columns if cc.startswith(\"Diff\")]:\n",
    "    microdata_[c][\n",
    "        #(microdata_[c]>-10)&\n",
    "        #(microdata_[c]<15)&\n",
    "        (microdata_[c]!=0)\n",
    "        ].dropna(axis=0).hist(bins=50, label=c)\n",
    "\n",
    "\n",
    "#plt.xlim(-25, 25)\n",
    "\n",
    "plt.legend(loc=\"best\")\n",
    "plt.show()\n"
   ]
  },
  {
   "cell_type": "code",
   "execution_count": 64,
   "metadata": {},
   "outputs": [],
   "source": [
    "diff_df = pd.concat([microdata_[c].dropna() for c in microdata_.columns if c.startswith(\"Diff\")]).to_frame().rename(columns={0: \"Diff\"})"
   ]
  },
  {
   "cell_type": "code",
   "execution_count": null,
   "metadata": {},
   "outputs": [],
   "source": [
    "diff_df[diff_df[\"Diff\"]!=0].hist(bins=100)\n"
   ]
  },
  {
   "cell_type": "code",
   "execution_count": null,
   "metadata": {},
   "outputs": [],
   "source": [
    "diff_df[diff_df[\"Diff\"]>0].hist(bins=100)\n"
   ]
  },
  {
   "cell_type": "code",
   "execution_count": null,
   "metadata": {},
   "outputs": [],
   "source": [
    "diff_df[diff_df[\"Diff\"]<0].hist(bins=100)\n"
   ]
  },
  {
   "cell_type": "code",
   "execution_count": null,
   "metadata": {},
   "outputs": [],
   "source": [
    "diff_df[diff_df[\"Diff\"]>0].describe()"
   ]
  },
  {
   "cell_type": "code",
   "execution_count": null,
   "metadata": {},
   "outputs": [],
   "source": [
    "diff_df[diff_df[\"Diff\"]<0].describe()"
   ]
  },
  {
   "cell_type": "code",
   "execution_count": null,
   "metadata": {},
   "outputs": [],
   "source": [
    "for c in [cc for cc in microdata_.columns if cc.startswith(\"Diff\")]:\n",
    "    \n",
    "    print(c)\n",
    "    print(f\"    Min: {microdata_[c].min()}\")\n",
    "    print(f\"    Mean: {microdata_[c].mean()}\")\n",
    "    print(f\"    Max: {microdata_[c].max()}\")\n",
    "\n",
    "    df_ = microdata_[[c]].dropna()\n",
    "\n",
    "    n_buy   = round(100*(df_[df_[c]>0].shape[0]/df_.shape[0]), 3)\n",
    "    n_equal = round(100*(df_[df_[c]==0].shape[0]/df_.shape[0]), 3)\n",
    "    n_sell  = round(100*(df_[df_[c]<0].shape[0]/df_.shape[0]), 3)\n",
    "\n",
    "    print(f\"\\n    n farms buy: {n_buy} %\")\n",
    "    print(f\"    n farms neutral: {n_buy}%\")\n",
    "    print(f\"    n farms sell: {n_sell}%\\n\")\n",
    "    "
   ]
  },
  {
   "cell_type": "code",
   "execution_count": null,
   "metadata": {},
   "outputs": [],
   "source": []
  },
  {
   "cell_type": "code",
   "execution_count": null,
   "metadata": {},
   "outputs": [],
   "source": []
  },
  {
   "cell_type": "code",
   "execution_count": null,
   "metadata": {},
   "outputs": [],
   "source": []
  }
 ],
 "metadata": {
  "kernelspec": {
   "display_name": "agricore_env",
   "language": "python",
   "name": "python3"
  },
  "language_info": {
   "codemirror_mode": {
    "name": "ipython",
    "version": 3
   },
   "file_extension": ".py",
   "mimetype": "text/x-python",
   "name": "python",
   "nbconvert_exporter": "python",
   "pygments_lexer": "ipython3",
   "version": "3.8.10"
  }
 },
 "nbformat": 4,
 "nbformat_minor": 2
}
