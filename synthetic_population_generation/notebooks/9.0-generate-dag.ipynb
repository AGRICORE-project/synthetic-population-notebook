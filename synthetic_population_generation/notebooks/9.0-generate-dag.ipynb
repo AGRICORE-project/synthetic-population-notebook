{
 "cells": [
  {
   "cell_type": "code",
   "execution_count": null,
   "metadata": {},
   "outputs": [],
   "source": [
    "import os\n",
    "import time\n",
    "import pandas as pd\n",
    "import numpy as np\n",
    "\n",
    "os.chdir(\"./..\")\n",
    "\n",
    "from src.DAG_generator import DAG_generator"
   ]
  },
  {
   "cell_type": "code",
   "execution_count": null,
   "metadata": {},
   "outputs": [],
   "source": [
    "columns_spg = pd.read_csv(\"columns_spg.csv\")[\"0\"].to_list()\n",
    "\n",
    "dag_generator = DAG_generator(columns_spg)\n",
    "\n",
    "dag = dag_generator.main()"
   ]
  },
  {
   "cell_type": "markdown",
   "metadata": {},
   "source": [
    "# Farm\n",
    "| Son                           | Parent | Availability |\n",
    "| :---------------------------- | :----: | :----------: | \n",
    "| lat                           | N      | N            |\n",
    "| long                          | N      | N            |\n",
    "| altitude                      | N      | Y            |\n",
    "| farmCode                      | N      | Y            |\n",
    "| technicalEconomicOrientation  | N      | Y            |\n",
    "| weight_ra                     | N      | N            |\n",
    "| regionLevel1Name              | N      | Y            |\n",
    "| regionLevel2Name              | N      | Y            |\n",
    "| regionLevel3Name              | N      | Y            |\n",
    "| regionLevel1                  | N      | Y            |\n",
    "| regionLevel2                  | N      | Y            |\n",
    "| regionLevel3                  | N      | Y            |\n",
    "| weight_reg                    | N      | N            |"
   ]
  },
  {
   "cell_type": "markdown",
   "metadata": {},
   "source": [
    "# Holder\n",
    "| Son                 | Parent | Availability |\n",
    "| :------------------ | :----: | :----------: | \n",
    "| holderAge           | N      | Y            |\n",
    "| holderGender        | N      | Y            |\n",
    "| holderSuccessors    | N      | N            |\n",
    "| holderSuccessorsAge | N      | N            |\n",
    "| holderFamilyMembers | N      | N            |\n",
    "| yearNumber          | N      | Y            |\n"
   ]
  },
  {
   "cell_type": "markdown",
   "metadata": {},
   "source": [
    "# Economic\n",
    "| Variable            | Parent | Son    | Availability |\n",
    "| :------------------ | :----: | :----: | :----------: | \n",
    "| agriculturalLandArea | N | N | Y |\n",
    "| agriculturalLandValue | N | N | Y |\n",
    "| agriculturalLandHectaresAdquisition | N | N | Y |\n",
    "| landImprovements | N | N | Y |\n",
    "| forestLandArea | N | N | Y |\n",
    "| forestLandValue | N | N | Y |\n",
    "| farmBuildingsValue | N | N | Y |\n",
    "| machineryAndEquipment | N | N | Y |\n",
    "| intangibleAssetsTradable | N | N | Y |\n",
    "| intangibleAssetsNonTradable | N | N | Y |\n",
    "| otherNonCurrentAssets | N | N | Y |\n",
    "| longAndMediumTermLoans | N | N | Y |\n",
    "| totalCurrentAssets | N | N | Y |\n",
    "| farmNetIncome | N | N | Y |\n",
    "| grossFarmIncome | N | N | Y |\n",
    "| subsidiesOnInvestments | N | N | Y |\n",
    "| vatBalanceOnInvestments | N | N | Y |\n",
    "| totalOutputCropsAndCropProduction | N | N | Y |\n",
    "| totalOutputLivestockAndLivestockProduction | N | N | Y |\n",
    "| otherOutputs | N | N | Y |\n",
    "| totalIntermediateConsumption | N | N | Y |\n",
    "| taxes | N | N | Y |\n",
    "| vatBalanceExcludingInvestments | N | N | Y |\n",
    "| fixedAssets | N | N | Y |\n",
    "| depreciation | N | N | Y |\n",
    "| totalExternalFactors | N | N | Y |\n",
    "| machinery | N | N | Y |\n",
    "| rentBalance | N | N | Y |"
   ]
  },
  {
   "cell_type": "code",
   "execution_count": null,
   "metadata": {},
   "outputs": [],
   "source": [
    "\"agriculturalLandArea\":                       \"SE025\",       # Total Area of type Agricultural Land [ha]\n",
    "\"agriculturalLandValue\":                      \"D_CV_3010_V\", # Total value of Agricultural Land [€]\n",
    "\"agriculturalLandHectaresAdquisition\":        \"agriculturalLandHectaresAdquisition\", # Acquired Agricultural Land [ha]\n",
    "\"landImprovements\":                           \"D_CV_3020_V\", # Invesment in Land improvements [€]\n",
    "\"forestLandArea\":                             \"SE075\",       # Total Area of type Forest Land [ha]\n",
    "\"forestLandValue\":                            \"D_CV_5010_V\", # Total value of Forest Land [€]\n",
    "\"farmBuildingsValue\":                         \"D_CV_3030_V\", # Value of Buildings in the farm [€]\n",
    "\"machineryAndEquipment\":                      \"D_CV_4010_V\", # Value of Machinery and Equipment in the farm [€]\n",
    "\"intangibleAssetsTradable\":                   \"D_CV_7010_V\", # Value of intangible assets that are tradable [€]\n",
    "\"intangibleAssetsNonTradable\":                \"D_CV_7020_V\", # Value of intangible assets that are non-tradable [€]\n",
    "\"otherNonCurrentAssets\":                      \"D_CV_8010_V\", # Value of other non-current assets [€]\n",
    "\"longAndMediumTermLoans\":                     \"SE490\", # Total value of established long and medium term loans [€]\n",
    "\"totalCurrentAssets\":                         \"SE465\", # Total value of current assets [€]\n",
    "\"farmNetIncome\":                              \"SE420\", # Farm Net Income [€]\n",
    "\"grossFarmIncome\":                            \"SE410\", # Gross Farm Income [€]\n",
    "\"subsidiesOnInvestments\":                     \"SE406\", # Total value of subsidies on investments [€]\n",
    "\"vatBalanceOnInvestments\":                    \"SE408\", # Balance of Taxes on Investments [€]\n",
    "\"totalOutputCropsAndCropProduction\":          \"SE135\", # Total value of Agricultural Production [€]\n",
    "\"totalOutputLivestockAndLivestockProduction\": \"SE206\", # Total value of Livestock Production [€]\n",
    "\"otherOutputs\":                               \"SE256\", # Total value of other outputs [€]\n",
    "\"totalIntermediateConsumption\":               \"SE275\", # Total value of intermediate consumption [€]\n",
    "\"taxes\":                                      \"SE390\", # Value of Taxes (>0 received , <0 paid) [€]\n",
    "\"vatBalanceExcludingInvestments\":             \"SE395\", # Balance of VAT excluding investments [€]\n",
    "\"fixedAssets\":                                \"SE441\", # Total value of Fixed Assets [€]\n",
    "\"depreciation\":                               \"SE360\", # Yearly Depreciation [€]\n",
    "\"totalExternalFactors\":                       \"SE365\", # Total value of External Factors [€]\n",
    "#\"machinery\":                                  \"D_CV_4010_V\", # Total value of Machinery [€] # Duplicated \n",
    "\"rentBalance\":                                \"I_SA_90100_V\", # Balance (>0 received , <0 paid) of rent operations [€]\n"
   ]
  },
  {
   "cell_type": "code",
   "execution_count": null,
   "metadata": {},
   "outputs": [],
   "source": [
    "Economic_dict = {\n",
    "    # 1. Current Assets\n",
    "    \"totalCurrentAssets\": [\"fixedAssets\", ], \n",
    "        \"grossFarmIncome\": [\"totalCurrentAssets\", ], \n",
    "            \"farmNetIncome\": [\"grossFarmIncome\"], \n",
    "                \"totalOutputCropsAndCropProduction\": [\"farmNetIncome\"], \n",
    "                    \"totalIntermediateConsumption\": [\"totalOutputCropsAndCropProduction\"], \n",
    "                \"totalOutputLivestockAndLivestockProduction\": [\"farmNetIncome\"], \n",
    "                \"subsidiesOnInvestments\": [\"farmNetIncome\"], \n",
    "        \"intangibleAssetsTradable\": [\"totalCurrentAssets\", ], \n",
    "        \"vatBalanceOnInvestments\": [\"totalCurrentAssets\", ], \n",
    "        \"otherOutputs\": [\"totalCurrentAssets\", ], \n",
    "        \"taxes\": [\"totalCurrentAssets\", ], \n",
    "        \"vatBalanceExcludingInvestments\": [\"totalCurrentAssets\", ], \n",
    "\n",
    "    # 2. Fixed Assets\n",
    "    \"fixedAssets\": [\"technicalEconomicOrientation\", \"regionLevel2\", ], \n",
    "\n",
    "        \"agriculturalLandValue\": [\"fixedAssets\", ], \n",
    "            \"landImprovements\": [\"agriculturalLandValue\"], \n",
    "\n",
    "        \"forestLandValue\": [\"fixedAssets\", ], \n",
    "        \"farmBuildingsValue\": [\"fixedAssets\", ], \n",
    "\n",
    "        \"agriculturalLandArea\": [\"fixedAssets\", ], \n",
    "            \"agriculturalLandHectaresAdquisition\": [\"agriculturalLandArea\"], \n",
    "        \"forestLandArea\": [\"fixedAssets\", ], \n",
    "\n",
    "        \"machineryAndEquipment\": [\"fixedAssets\", ],\n",
    "        \"machinery\": [\"fixedAssets\", ],  \n",
    "        \"intangibleAssetsNonTradable\": [\"fixedAssets\", ], \n",
    "\n",
    "        \"otherNonCurrentAssets\": [\"fixedAssets\", ], \n",
    "        \"depreciation\": [\"fixedAssets\", ], \n",
    "        \"totalExternalFactors\": [\"fixedAssets\", ], \n",
    "        \"rentBalance\": [\"fixedAssets\", ], \n",
    "\n",
    "    # 3. Liabilities\n",
    "    \"longAndMediumTermLoans\": [\"fixedAssets\"], \n",
    "\n",
    "    # 4. Equity\n",
    "}\n",
    "\n",
    "\n",
    "#   Son: Parents\n",
    "Crops_dict = {\n",
    "    \"cultivatedArea\":        [\"technicalEconomicOrientation\", \"regionLevel2\", ], \n",
    "        \"irrigatedArea\":         [\"cultivatedArea\", ], \n",
    "            \"cropProduction\":        [\"cultivatedArea\", \"irrigatedArea\", \"organicProductionType\", \"landValue\", ], \n",
    "                \"quantitySold\":          [\"cropProduction\", ], \n",
    "                    \"quantityUsed\":          [\"cropProduction\", \"quantitySold\", ], \n",
    "                    \"valueSales\":            [\"quantitySold\"], \n",
    "            \"variableCostsCrops\":    [\"cultivatedArea\", \"irrigatedArea\", \"organicProductionType\", ], \n",
    "        \"landValue\":             [\"cultivatedArea\", \"irrigatedArea\", ], \n",
    "    \"organicProductionType\": [], # Categorical\n",
    "        \"sellingPrice\":          [\"organicProductionType\"], \n",
    "        \n",
    "}\n",
    "\n",
    "Animals_dict = {\n",
    "    'numberOfAnimals':              [\"technicalEconomicOrientation\", \"regionLevel2\", ],\n",
    "        'numberOfAnimalsSold':          [\"numberOfAnimals\", ],\n",
    "            'valueSoldAnimals':             [\"numberOfAnimalsSold\", ],\n",
    "        'numberAnimalsRearingBreading': [\"numberOfAnimals\", ],\n",
    "            'valueAnimalsRearingBreading':  [\"numberAnimalsRearingBreading\", ],\n",
    "        'numberAnimalsForSlaughtering': [\"numberOfAnimals\", ],\n",
    "            'valueSlaughteredAnimals':      [\"numberAnimalsForSlaughtering\", ],\n",
    "    'dairyCows':                    [\"technicalEconomicOrientation\", \"regionLevel2\", \"numberOfAnimals\"],    \n",
    "        'milkTotalProduction':          [\"dairyCows\", ],\n",
    "            'milkProductionSold':           [\"milkTotalProduction\", ], \n",
    "                'milkTotalSales':               [\"milkProductionSold\", ],\n",
    "        'milkVariableCosts':            [\"dairyCows\", ],\n",
    "    'variableCostsAnimals':         [\"numberOfAnimals\", \"numberAnimalsRearingBreading\", \"numberAnimalsForSlaughtering\", \"dairyCows\", ],\n",
    "    'woolTotalProduction':          [\"technicalEconomicOrientation\", \"regionLevel2\", \"numberOfAnimals\"],\n",
    "        'woolProductionSold':           [\"woolTotalProduction\", ],\n",
    "    'eggsTotalProduction':          [\"numberOfAnimals\", \"technicalEconomicOrientation\", \"regionLevel2\", ],\n",
    "        'eggsProductionSold':           [\"eggsTotalProduction\", ],\n",
    "            'eggsTotalSales':               [\"eggsProductionSold\", ],\n",
    "    'manureTotalSales':             [\"numberOfAnimals\", ],\n",
    "    #'valueSold':                    [\"valueSoldAnimals\", \"valueAnimalsRearingBreading\", \"valueSlaughteredAnimals\", \"milkProductionSold\", \"milkTotalSales\", \"woolProductionSold\", \"eggsProductionSold\", \"eggsTotalSales\", \"manureTotalSales\", \"valueSold\", ]\n",
    "    }\n",
    "\n",
    "\n",
    "Subsidies_dict = {\n",
    "    \"policyIdentifier\": [], \n",
    "    \"policyDescription\": [], \n",
    "    \"isCoupled\": [], \n",
    "    \"value\": [\"technicalEconomicOrientation\", \"regionLevel2\", \"cultivatedArea\", 'numberOfAnimals', \"fixedAssets\", ], \n",
    "}"
   ]
  },
  {
   "cell_type": "code",
   "execution_count": null,
   "metadata": {},
   "outputs": [],
   "source": [
    "for parent, sons in Economic_dict.items():\n",
    "    print(parent)\n",
    "    print(sons)\n",
    "    print(\" \")\n",
    "    for son in sons:\n",
    "        dag.at[parent, son] = 1"
   ]
  },
  {
   "cell_type": "code",
   "execution_count": null,
   "metadata": {},
   "outputs": [],
   "source": [
    "for parent, sons in Economic_dict.items():\n",
    "    \n",
    "    print(parent)\n",
    "    print(sons)\n",
    "    print(\" \")\n",
    "\n",
    "    for son in sons:\n",
    "        dag.at[parent, son] = 1"
   ]
  },
  {
   "cell_type": "code",
   "execution_count": null,
   "metadata": {},
   "outputs": [],
   "source": [
    "for parent, sons in Crops_dict.items():\n",
    "    \n",
    "    print(parent)\n",
    "    print(sons)\n",
    "    print(\" \")\n",
    "\n",
    "    for son in sons:\n",
    "        dag.at[parent, son] = 1\n"
   ]
  },
  {
   "cell_type": "code",
   "execution_count": null,
   "metadata": {},
   "outputs": [],
   "source": [
    "for parent, sons in Animals_dict.items():\n",
    "    \n",
    "    print(parent)\n",
    "    print(sons)\n",
    "    print(\" \")\n",
    "\n",
    "    for son in sons:\n",
    "        dag.at[parent, son] = 1"
   ]
  },
  {
   "cell_type": "code",
   "execution_count": null,
   "metadata": {},
   "outputs": [],
   "source": [
    "for parent, sons in Subsidies_dict.items():\n",
    "    \n",
    "    print(parent)\n",
    "    print(sons)\n",
    "    print(\" \")\n",
    "\n",
    "    for son in sons:\n",
    "        dag.at[parent, son] = 1"
   ]
  },
  {
   "cell_type": "markdown",
   "metadata": {},
   "source": [
    "# Set forbidden directions\n",
    "Variable defined for ABM can be goruped in six main groups namely:  \n",
    "* ***Farm***: geospatial and techno-economical orientation of the farm. \n",
    "* ***Holder***: features of the holder of the farm. \n",
    "* ***Crops***: data about the crops produced, their areas, quantities...\n",
    "* ***Animals***: data about the animalas available in the farm, their producions and economical revenues.\n",
    "* ***Subsidies***: information about the subsidies managed in the farm. \n",
    "* ***Economic***: economical indicators of the farm at the end of the accountancy exercise.  \n",
    "  \n",
    "Considerig these major groups, some assumptions will be made to set the forbidden directions:\n",
    "1. Nothing affects ***Farm***. This will ensure that the features of the original population are replicated in the synthetic population.  \n",
    "2. ***Farm*** will affect all other groups. According to geospatial attributes, other values are generated.  \n",
    "3. ***Holder*** is only affected by ***Farm***.\n",
    "4. ***Crops*** is only affected by ***Farm***.\n",
    "5. ***Animals*** is only affected by ***Farm***.\n",
    "6. ***Subsidies*** is affected by ***Farm***, ***Holder***, ***Crops*** and ***Animals***, but it is not affected by ***Economic***.\n",
    "7. ***Economic*** is affected by all other groups, ***Farm***, ***Holder***, ***Crops***, ***Animals*** and ***Subsidies***.  \n",
    "  \n",
    "In this sense, and to define the forbidden directions between groups:  \n",
    "1. ***Farm*** is not affected by ***Holder***, ***Crops***, ***Animals***, ***Subsidies*** and ***Economic***.  \n",
    "2. ***Holder*** is not affected by ***Crops***, ***Animals***, ***Subsidies*** and ***Economic***.  \n",
    "4. ***Crops*** is not affected by ***Holder***, ***Animals***, ***Subsidies*** and ***Economic***.  \n",
    "5. ***Animals*** is not affected by ***Holder***, ***Crops***, ***Subsidies*** and ***Economic***.  \n",
    "6. ***Subsidies*** is not affected by ***Economic***.  \n",
    "  "
   ]
  },
  {
   "cell_type": "markdown",
   "metadata": {},
   "source": [
    "## Inter-groups forbidden directions"
   ]
  },
  {
   "cell_type": "code",
   "execution_count": null,
   "metadata": {},
   "outputs": [],
   "source": [
    "fd = pd.DataFrame(columns=[\"from\", \"to\"])"
   ]
  },
  {
   "cell_type": "code",
   "execution_count": null,
   "metadata": {},
   "outputs": [],
   "source": [
    "fd_groups = {\n",
    "    \"Farm\": [\"Holder\", \"Crops\", \"Animals\", \"Subsidies\", \"Economic\"], \n",
    "    \"Holder\": [\"Crops\", \"Animals\", \"Subsidies\", \"Economic\"], \n",
    "    \"Crops\": [\"Holder\", \"Animals\", \"Subsidies\", \"Economic\"], \n",
    "    \"Animals\": [\"Holder\", \"Crops\", \"Subsidies\", \"Economic\"], \n",
    "    \"Subsidies\": [\"Economic\"], \n",
    "    }\n"
   ]
  },
  {
   "cell_type": "code",
   "execution_count": null,
   "metadata": {},
   "outputs": [],
   "source": [
    "for to_group in fd_groups.keys():\n",
    "    for to_var in eval(to_group):\n",
    "        for from_group in fd_groups[to_group]:\n",
    "            for from_var in eval(from_group):\n",
    "                fd = pd.concat([fd, pd.DataFrame({\"from\": [from_var], \"to\": [to_var]})])\n"
   ]
  },
  {
   "cell_type": "markdown",
   "metadata": {},
   "source": [
    "# Intra-groups forbidden directions"
   ]
  },
  {
   "cell_type": "code",
   "execution_count": null,
   "metadata": {},
   "outputs": [],
   "source": [
    "#   Son: Parents\n",
    "intra_group_crops = {\n",
    "    \"cultivatedArea\":        [], \n",
    "    \"irrigatedArea\":         [\"cultivatedArea\", \"landValue\", ], \n",
    "    \"cropProduction\":        [\"cultivatedArea\", \"irrigatedArea\", \"organicProductionType\", \"variableCostsCrops\", \"landValue\", ], \n",
    "    \"quantitySold\":          [\"cultivatedArea\", \"irrigatedArea\", \"cropProduction\", \"organicProductionType\", \"variableCostsCrops\", \"landValue\", ], \n",
    "    \"quantityUsed\":          [\"cultivatedArea\", \"irrigatedArea\", \"cropProduction\", \"organicProductionType\", \"variableCostsCrops\", \"landValue\", ], \n",
    "    \"valueSales\":            [\"cultivatedArea\", \"irrigatedArea\", \"cropProduction\", \"quantitySold\", \"organicProductionType\", \"variableCostsCrops\", \"landValue\", \"sellingPrice\"], \n",
    "    \"organicProductionType\": [\"cropProduction\", \"quantitySold\", \"valueSales\", ], \n",
    "    \"variableCostsCrops\":    [\"cultivatedArea\", \"irrigatedArea\", \"organicProductionType\", \"landValue\", ], \n",
    "    \"landValue\":             [\"cultivatedArea\", \"irrigatedArea\", ], \n",
    "    \"sellingPrice\":          [\"organicProductionType\"], \n",
    "}\n",
    "\n",
    "inter_group_animals = {\n",
    "    'numberOfAnimals': [],\n",
    "    'numberOfAnimalsSold':          [\"numberOfAnimals\", ],\n",
    "    'valueSoldAnimals':             [\"numberOfAnimals\", \"numberOfAnimalsSold\", ],\n",
    "    'numberAnimalsRearingBreading': [\"numberOfAnimals\", ],\n",
    "    'valueAnimalsRearingBreading':  [\"numberOfAnimals\", \"numberAnimalsRearingBreading\", ],\n",
    "    'numberAnimalsForSlaughtering': [\"numberOfAnimals\", ],\n",
    "    'valueSlaughteredAnimals':      [\"numberOfAnimals\", \"numberAnimalsForSlaughtering\", ],\n",
    "    'milkTotalProduction':          [\"numberOfAnimals\", \"dairyCows\", ],\n",
    "    'milkProductionSold':           [\"numberOfAnimals\", \"milkTotalProduction\", \"dairyCows\", ], \n",
    "    'milkTotalSales':               [\"numberOfAnimals\", \"milkTotalProduction\", \"milkProductionSold\", \"dairyCows\", ],\n",
    "    'milkVariableCosts':            [\"numberOfAnimals\", \"numberOfAnimalsSold\", \"valueSoldAnimals\", \"numberAnimalsRearingBreading\", \"valueAnimalsRearingBreading\", \"numberAnimalsForSlaughtering\", \"valueSlaughteredAnimals\", \"milkTotalProduction\", \"milkProductionSold\", \"milkTotalSales\", \"milkVariableCosts\", \"dairyCows\", \"variableCostsAnimals\", \"woolTotalProduction\", \"woolProductionSold\", \"eggsTotalProduction\", \"eggsProductionSold\", \"eggsTotalSales\", \"manureTotalSales\", ],\n",
    "    'dairyCows':                    [\"numberOfAnimals\", ],\n",
    "    'variableCostsAnimals':         [\"numberOfAnimals\", \"numberAnimalsRearingBreading\", \"numberAnimalsForSlaughtering\", \"milkTotalProduction\", \"milkVariableCosts\", \"dairyCows\", \"woolTotalProduction\", \"eggsTotalProduction\", ],\n",
    "    'woolTotalProduction':          [\"numberOfAnimals\", ],\n",
    "    'woolProductionSold':           [\"numberOfAnimals\", \"woolTotalProduction\", ],\n",
    "    'eggsTotalProduction':          [\"numberOfAnimals\", \"eggsProductionSold\", \"eggsTotalSales\", \"manureTotalSales\", ],\n",
    "    'eggsProductionSold':           [\"numberOfAnimals\", \"eggsTotalProduction\", ],\n",
    "    'eggsTotalSales':               [\"numberOfAnimals\", \"eggsTotalProduction\", \"eggsProductionSold\", ],\n",
    "    'manureTotalSales':             [\"numberOfAnimals\", ],\n",
    "    #'valueSold':                    [\"valueSoldAnimals\", \"valueAnimalsRearingBreading\", \"valueSlaughteredAnimals\", \"milkProductionSold\", \"milkTotalSales\", \"woolProductionSold\", \"eggsProductionSold\", \"eggsTotalSales\", \"manureTotalSales\", \"valueSold\", ]\n",
    "    }\n"
   ]
  },
  {
   "cell_type": "code",
   "execution_count": null,
   "metadata": {},
   "outputs": [],
   "source": [
    "for from_var in intra_group_crops.keys():\n",
    "    for to_var in intra_group_crops[from_var]:\n",
    "        print(f'from {from_var} to {to_var}')\n",
    "        fd = pd.concat([fd, pd.DataFrame({\"from\": [from_var], \"to\": [to_var]})])"
   ]
  },
  {
   "cell_type": "code",
   "execution_count": null,
   "metadata": {},
   "outputs": [],
   "source": [
    "for from_var in inter_group_animals.keys():\n",
    "    for to_var in inter_group_animals[from_var]:\n",
    "        print(f'from {from_var} to {to_var}')\n",
    "        fd = pd.concat([fd, pd.DataFrame({\"from\": [from_var], \"to\": [to_var]})])"
   ]
  },
  {
   "cell_type": "markdown",
   "metadata": {},
   "source": [
    "# Subsidies"
   ]
  },
  {
   "cell_type": "code",
   "execution_count": null,
   "metadata": {},
   "outputs": [],
   "source": [
    "for from_var in [\"policyDescription\", \"policyIdentifier\", \"isCoupled\"]:    \n",
    "    for to_group in fd_groups.keys():\n",
    "        for to_var in eval(to_group):\n",
    "            fd = pd.concat([fd, pd.DataFrame({\"from\": [from_var], \"to\": [to_var]})])\n",
    "            #print(f\"from: {[from_var]}, to: {[to_var]})]\")\n",
    "            \n",
    "for from_group in fd_groups[to_group]:\n",
    "    for from_var in eval(from_group):\n",
    "        for to_var in [\"policyDescription\", \"policyIdentifier\", \"isCoupled\"]:    \n",
    "            fd = pd.concat([fd, pd.DataFrame({\"from\": [from_var], \"to\": [to_var]})])\n",
    "            #print(f\"from: {[from_var]}, to: {[to_var]})]\")\n"
   ]
  },
  {
   "cell_type": "code",
   "execution_count": null,
   "metadata": {},
   "outputs": [],
   "source": [
    "# Categorical policy variables do not affect anything, and they are not affected by anyth\n",
    "fd"
   ]
  },
  {
   "cell_type": "code",
   "execution_count": null,
   "metadata": {},
   "outputs": [],
   "source": [
    "fd.to_csv(\"./../data/use_case_andalusia/metadata/forbidden_directions_v2.csv\", index=False)\n",
    "fd.to_csv(\"./../data/use_case_andalusia2/metadata/forbidden_directions_v2.csv\", index=False)\n",
    "fd.to_csv(\"./../data/use_case_andalusia3/metadata/forbidden_directions_v2.csv\", index=False)\n",
    "fd.to_csv(\"./../data/use_case_andalusia4/metadata/forbidden_directions_v2.csv\", index=False)\n"
   ]
  },
  {
   "cell_type": "code",
   "execution_count": null,
   "metadata": {},
   "outputs": [],
   "source": []
  },
  {
   "cell_type": "code",
   "execution_count": null,
   "metadata": {},
   "outputs": [],
   "source": []
  }
 ],
 "metadata": {
  "kernelspec": {
   "display_name": "agricore_env",
   "language": "python",
   "name": "agricore_env"
  },
  "language_info": {
   "codemirror_mode": {
    "name": "ipython",
    "version": 3
   },
   "file_extension": ".py",
   "mimetype": "text/x-python",
   "name": "python",
   "nbconvert_exporter": "python",
   "pygments_lexer": "ipython3",
   "version": "3.8.10"
  }
 },
 "nbformat": 4,
 "nbformat_minor": 2
}
