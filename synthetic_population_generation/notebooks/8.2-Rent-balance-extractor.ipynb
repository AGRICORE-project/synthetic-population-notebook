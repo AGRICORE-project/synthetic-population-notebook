{
 "cells": [
  {
   "cell_type": "code",
   "execution_count": 1,
   "metadata": {},
   "outputs": [],
   "source": [
    "import os\n",
    "import pandas as pd\n",
    "import matplotlib.pyplot as plt"
   ]
  },
  {
   "cell_type": "code",
   "execution_count": 2,
   "metadata": {},
   "outputs": [],
   "source": [
    "USE_CASES = [\"andalusia\", \"italy\", \"greece\", \"poland\"]\n",
    "\n",
    "use_case = \"andalusia\"\n",
    "\n",
    "BASE_PATH = f\"./../data/use_case_{use_case}\""
   ]
  },
  {
   "cell_type": "code",
   "execution_count": 3,
   "metadata": {},
   "outputs": [],
   "source": [
    "UC_LINK = {\n",
    "    \"andalusia\": \"AND\",\n",
    "    \"italy\": \"ITA\", \n",
    "    \"greece\": \"ELL\", \n",
    "    \"poland\": \"POL\"\n",
    "}"
   ]
  },
  {
   "cell_type": "code",
   "execution_count": 4,
   "metadata": {},
   "outputs": [],
   "source": [
    "microdata_ = pd.DataFrame()\n",
    "\n",
    "for y in range(2014, 2021):\n",
    "    MICRODATA_FILEPATH = os.path.join(BASE_PATH, f\"microdata/AND{y}.csv\")\n",
    "\n",
    "    df_ = pd.read_csv(MICRODATA_FILEPATH)\n",
    "\n",
    "    df_[\"YEAR\"] = y\n",
    "\n",
    "    microdata_ = pd.concat([microdata_, df_])\n"
   ]
  },
  {
   "cell_type": "code",
   "execution_count": null,
   "metadata": {},
   "outputs": [],
   "source": [
    "microdata_"
   ]
  },
  {
   "cell_type": "markdown",
   "metadata": {},
   "source": [
    "## Relevant variables to perform crop representativeness analysis\n",
    "| Variable      | Description | Formula |\n",
    "| :------------ | :------- | :------- |\n",
    "| I_A_{code}_TA | Total area |  |\n",
    "| I_A_{code}_IR | Irrigted area |\n",
    "| I_PR_{code}_Q | Production quanity |\n",
    "| I_SA_{code}_Q | Sales quanity |\n",
    "| I_SA_{code}_V | Sales values |  |\n",
    "| SE025         | Total Urilised Agricultural Area |  ( B_UO_10_A + B_UT_20_A + B_US_30_A) / 100 |\n",
    "  "
   ]
  },
  {
   "cell_type": "code",
   "execution_count": 10,
   "metadata": {},
   "outputs": [],
   "source": [
    "class RentBalanceComputer():\n",
    "    def __init__(self, data_path, use_case, year):\n",
    "\n",
    "        UC_LINK = {\n",
    "            \"andalusia\": \"AND\",\n",
    "            \"italy\": \"ITA\", \n",
    "            \"greece\": \"ELL\", \n",
    "            \"poland\": \"POL\"}\n",
    "\n",
    "        DATA_PATH = data_path\n",
    "        USE_CASE = use_case\n",
    "        YEAR = year\n",
    "        \n",
    "        self.MICRODATA_FILEPATH = os.path.join(DATA_PATH, f\"use_case_{USE_CASE}/microdata/{UC_LINK[use_case]}{YEAR}.csv\")\n",
    "        self.METADATA_PATH = os.path.join(DATA_PATH, f\"use_case_{USE_CASE}/metadata\")\n",
    "        \n",
    "        crops_codes = pd.read_csv(os.path.join(DATA_PATH, f\"use_case_{USE_CASE}/metadata/crops_codes.csv\"))\n",
    "        \n",
    "        self.results = pd.DataFrame()\n",
    "\n",
    "        self.results[\"code\"] = crops_codes[\"code\"]\n",
    "        self.results[\"Description\"] = crops_codes[\"Description\"]\n",
    "    \n",
    "    \n",
    "    def _load_external_files(self):\n",
    "        \"\"\"\n",
    "        Read external files to be processed\n",
    "        \"\"\"\n",
    "\n",
    "        microdata = pd.read_csv(self.MICRODATA_FILEPATH).reset_index(drop=True)\n",
    "        print(microdata.shape)\n",
    "        return microdata\n",
    "\n",
    "\n",
    "    def _compute_rent_balance(self, microdata):\n",
    "        \"\"\"\n",
    "        leaser: agent taking a property for rent\n",
    "        renter: agent letting a property for rent\n",
    "\n",
    "        TENANT -> rent in \n",
    "        B_UT_20_A: Rented UAA -\n",
    "        H_FO_5071_V: Rent paid for land\n",
    "\n",
    "        LANDLORD -> lease out\n",
    "        I_A_90100_TA: Total area of rented agricultural land\n",
    "        I_SA_90100_V: Receipts from renting out agricultural land\n",
    "        \"\"\"\n",
    "\n",
    "        # Compute majoritary crop\n",
    "        microdata[\"Majoritary crop\"] = microdata[[c for c in microdata.columns if c.startswith(\"I_A\") and c.endswith(\"TA\")]].idxmax(axis=1)\n",
    "\n",
    "        codes = [int(c.replace(\"I_A_\", \"\").replace(\"_TA\", \"\")) for c in microdata.columns if c.startswith(\"I_A\") and c.endswith(\"TA\")]\n",
    "        \n",
    "        for crop in codes:\n",
    "            if f\"I_A_{crop}_IR\" in microdata.columns and f\"I_A_{crop}_TA\" in microdata.columns:\n",
    "                microdata[f\"IR ratio {crop}\"] = microdata.apply(lambda x: x[f\"I_A_{crop}_IR\"]/x[f\"I_A_{crop}_TA\"] if x[f\"I_A_{crop}_TA\"]>0 else 0, axis=1)\n",
    "\n",
    "        rent_balance = microdata[[\n",
    "            \"Majoritary crop\", \n",
    "             \"B_UT_20_A\", \n",
    "             \"H_FO_5071_V\", \n",
    "             \"I_A_90100_TA\", \n",
    "             \"I_SA_90100_V\", \n",
    "             \"A_OT_210_C\", \n",
    "             \"A_TY_90_TF\", \n",
    "             ] + [c for c in microdata.columns if c.startswith(\"IR ratio\")]].fillna(0).rename(columns={\n",
    "                 \"B_UT_20_A\": \"rent area\", \n",
    "                 \"H_FO_5071_V\": \"rent value\", \n",
    "                 \"I_A_90100_TA\": \"lease area\",\n",
    "                 \"I_SA_90100_V\": \"lease value\", \n",
    "             })\n",
    "        # \n",
    "        rent_balance[\"Majoritary crop\"] = rent_balance[\"Majoritary crop\"].apply(lambda x: int(x.replace(\"I_A_\", \"\").replace(\"_TA\", \"\")))\n",
    "\n",
    "        # Convert to hectares\n",
    "        #rent_balance[\"ownership\"] = rent_balance[\"ownership\"].apply(lambda x: x/100)\n",
    "        rent_balance[\"rent area\"] = rent_balance[\"rent area\"].apply(lambda x: x/100)\n",
    "        rent_balance[\"lease area\"] = rent_balance[\"lease area\"].apply(lambda x: x/100)\n",
    "\n",
    "        # Compute prices\n",
    "        rent_balance[\"rent price\"] = rent_balance.apply(lambda x: x[\"rent value\"] / x[\"rent area\"] if x[\"rent area\"]>0 else 0, axis=1)\n",
    "        rent_balance[\"lease price\"] = rent_balance.apply(lambda x: x[\"lease value\"] / x[\"lease area\"] if x[\"lease area\"]>0 else 0, axis=1)\n",
    "\n",
    "        # Average price per hectare\n",
    "        \n",
    "        return rent_balance\n",
    "\n",
    "\n",
    "    def main(self):\n",
    "        \n",
    "        # 0. Import external files\n",
    "        microdata = self._load_external_files()\n",
    "\n",
    "        # 1. Compute rent balance\n",
    "        rent_balance = self._compute_rent_balance(microdata)\n",
    "\n",
    "        return rent_balance\n",
    "        "
   ]
  },
  {
   "cell_type": "code",
   "execution_count": null,
   "metadata": {},
   "outputs": [],
   "source": [
    "data_path = \"./../data\"\n",
    "use_case = \"andalusia\"\n",
    "year = 2015\n",
    "\n",
    "rbc = RentBalanceComputer(data_path, use_case, year)\n",
    "rent_balance = rbc.main()"
   ]
  },
  {
   "cell_type": "code",
   "execution_count": null,
   "metadata": {},
   "outputs": [],
   "source": [
    "rent_balance[\"Majoritary crop\"]#.unique()\n"
   ]
  },
  {
   "cell_type": "code",
   "execution_count": null,
   "metadata": {},
   "outputs": [],
   "source": [
    "for crop in sorted(rent_balance[\"Majoritary crop\"].unique()):\n",
    "    sel = rent_balance[rent_balance[\"Majoritary crop\"]==crop][\"rent price\"]\n",
    "    try:\n",
    "        print(f'{crop}: {sel.shape[0]} {round(sel.mean())} {round(sel.std())}')\n",
    "        sel_ = rent_balance[(rent_balance[\"Majoritary crop\"]==crop)&(rent_balance[\"rent price\"]>0)]\n",
    "        sel1 = sel_[sel_[\"IR ra\"]]\n",
    "        #[\"rent price\"].hist(bins=sel.shape[0]*2 if sel.shape[0]>20 else 10)\n",
    "        [\"rent price\"].hist()\n",
    "        plt.show()\n",
    "    except:\n",
    "        pass"
   ]
  },
  {
   "cell_type": "code",
   "execution_count": null,
   "metadata": {},
   "outputs": [],
   "source": [
    "for c in rent_balance.columns:\n",
    "    plt.title(c)\n",
    "    plt.hist(rent_balance[rent_balance[c]>0][c], bins=50)\n",
    "    plt.show()"
   ]
  },
  {
   "cell_type": "code",
   "execution_count": null,
   "metadata": {},
   "outputs": [],
   "source": [
    "rent_price_limit = 10\n",
    "plt.scatter(rent_balance[rent_balance[\"rent price\"]<rent_price_limit][\"rent area\"], rent_balance[rent_balance[\"rent price\"]<rent_price_limit][\"rent value\"])"
   ]
  },
  {
   "cell_type": "code",
   "execution_count": null,
   "metadata": {},
   "outputs": [],
   "source": [
    "for c in rent_balance.columns:\n",
    "    plt.title(c)\n",
    "    plt.hist(rent_balance[rent_balance[c]>0][c], bins=50)\n",
    "    plt.show()"
   ]
  },
  {
   "cell_type": "code",
   "execution_count": null,
   "metadata": {},
   "outputs": [],
   "source": []
  },
  {
   "cell_type": "code",
   "execution_count": null,
   "metadata": {},
   "outputs": [],
   "source": []
  }
 ],
 "metadata": {
  "kernelspec": {
   "display_name": "agricore_spg",
   "language": "python",
   "name": "agricore_spg"
  },
  "language_info": {
   "codemirror_mode": {
    "name": "ipython",
    "version": 3
   },
   "file_extension": ".py",
   "mimetype": "text/x-python",
   "name": "python",
   "nbconvert_exporter": "python",
   "pygments_lexer": "ipython3",
   "version": "3.8.10"
  }
 },
 "nbformat": 4,
 "nbformat_minor": 2
}
