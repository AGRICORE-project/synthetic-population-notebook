{
 "cells": [
  {
   "cell_type": "code",
   "execution_count": 1,
   "metadata": {},
   "outputs": [],
   "source": [
    "import dask\n",
    "import time\n",
    "from dask import delayed\n",
    "import pandas as pd\n",
    "import matplotlib.pyplot as plt"
   ]
  },
  {
   "cell_type": "code",
   "execution_count": 58,
   "metadata": {},
   "outputs": [],
   "source": [
    "## import dependencies\n",
    "from time import sleep\n",
    "## calculate square of a number\n",
    "\n",
    "def calculate_square(x):\n",
    "    sleep(1)\n",
    "    x= x**2\n",
    "    return x\n",
    "\n",
    "## calculate sum of two numbers\n",
    "def get_sum(a,b):\n",
    "    sleep(1)\n",
    "    return a+b"
   ]
  },
  {
   "cell_type": "code",
   "execution_count": null,
   "metadata": {},
   "outputs": [],
   "source": [
    "%%time\n",
    "## Wrapping the function calls using dask.delayed\n",
    "x = delayed(calculate_square)(10)\n",
    "y = delayed(calculate_square)(20)\n",
    "z = delayed(get_sum)(x, y)\n",
    "print(z)"
   ]
  },
  {
   "cell_type": "code",
   "execution_count": null,
   "metadata": {},
   "outputs": [],
   "source": [
    "%%time\n",
    "## visualize the task graph\n",
    "z.visualize()"
   ]
  },
  {
   "cell_type": "code",
   "execution_count": null,
   "metadata": {},
   "outputs": [],
   "source": [
    "## Call above functions in a for loop\n",
    "output = []\n",
    "## iterate over values and calculate the sum\n",
    "for i in range(5):\n",
    "    a = delayed(calculate_square)(i)\n",
    "    b = delayed(calculate_square)(i+10)\n",
    "    c = delayed(get_sum)(a, b)\n",
    "    output.append(c)\n",
    "total = dask.delayed(sum)(output)\n",
    "## Visualizing the graph\n",
    "total.visualize()"
   ]
  },
  {
   "cell_type": "code",
   "execution_count": null,
   "metadata": {},
   "outputs": [],
   "source": [
    "%%time\n",
    "\n",
    "Bootstraps = 12\n",
    "def generate_sample(i, j):\n",
    "    \n",
    "    res_ = pd.DataFrame({i: [j]})\n",
    "    return res_\n",
    "\n",
    "def _decode_data(x):\n",
    "    x = x.apply(lambda x: x**3)\n",
    "    return x\n",
    "\n",
    "def concatenation(list_):\n",
    "    return pd.concat(list_, axis=1)\n",
    "\n",
    "output = []\n",
    "\n",
    "for i in range(Bootstraps):\n",
    "\n",
    "    res1 = delayed(generate_sample)(i, i**2)\n",
    "    res1 = delayed(_decode_data)(res1)\n",
    "    output.append(res1)\n",
    "\n",
    "total = dask.delayed(concatenation)(output)\n",
    "\n",
    "total.visualize()"
   ]
  },
  {
   "cell_type": "code",
   "execution_count": null,
   "metadata": {},
   "outputs": [],
   "source": [
    "total.compute()"
   ]
  },
  {
   "cell_type": "markdown",
   "metadata": {},
   "source": [
    "# Use client class\n",
    "## Without parallelization"
   ]
  },
  {
   "cell_type": "code",
   "execution_count": null,
   "metadata": {},
   "outputs": [],
   "source": [
    "%%time\n",
    "\n",
    "Bootstraps = 12\n",
    "def generate_sample(i, j):\n",
    "    time.sleep(1)\n",
    "    res_ = pd.DataFrame({i: [j]})\n",
    "    return res_\n",
    "\n",
    "def _decode_data(x):\n",
    "    x = x.apply(lambda x: x**3)\n",
    "    time.sleep(1)\n",
    "    return x\n",
    "\n",
    "def concatenation(list_):\n",
    "    time.sleep(1)\n",
    "    return pd.concat(list_, axis=1)\n",
    "\n",
    "output = []\n",
    "\n",
    "for i in range(Bootstraps):\n",
    "\n",
    "    res1 = generate_sample(i, i**2)\n",
    "    res1 = _decode_data(res1)\n",
    "    output.append(res1)\n",
    "\n",
    "total = concatenation(output)\n"
   ]
  },
  {
   "cell_type": "markdown",
   "metadata": {},
   "source": [
    "## With parallelization"
   ]
  },
  {
   "cell_type": "code",
   "execution_count": null,
   "metadata": {},
   "outputs": [],
   "source": [
    "%%time\n",
    "\n",
    "Bootstraps=9\n",
    "\n",
    "def generate_sample(i, j):\n",
    "    time.sleep(1)\n",
    "    res_ = pd.DataFrame({i: [j]})\n",
    "    return res_\n",
    "\n",
    "def _decode_data(x):\n",
    "    time.sleep(1)\n",
    "    x = x.apply(lambda x: x**3)\n",
    "    return x\n",
    "\n",
    "def concatenation(list_):\n",
    "    time.sleep(1)\n",
    "    return pd.concat(list_, axis=1)\n",
    "\n",
    "output = []\n",
    "\n",
    "for i in range(Bootstraps):\n",
    "\n",
    "    res1 = delayed(generate_sample)(i, i**2)\n",
    "    res1 = delayed(_decode_data)(res1)\n",
    "    output.append(res1)\n",
    "\n",
    "total = dask.delayed(concatenation)(output)\n",
    "\n",
    "result = total.compute()"
   ]
  },
  {
   "cell_type": "markdown",
   "metadata": {},
   "source": [
    "## Plot time increase with bootstrap increase"
   ]
  },
  {
   "cell_type": "code",
   "execution_count": 81,
   "metadata": {},
   "outputs": [],
   "source": [
    "times = []\n",
    "trials = range(1, 30)\n",
    "\n",
    "for Bootstraps in trials:\n",
    "    t0 = time.time()\n",
    "    output = []\n",
    "\n",
    "    for i in range(Bootstraps):\n",
    "\n",
    "        res1 = delayed(generate_sample)(i, i**2)\n",
    "        res1 = delayed(_decode_data)(res1)\n",
    "        output.append(res1)\n",
    "\n",
    "    total = dask.delayed(concatenation)(output)\n",
    "\n",
    "    result = total.compute()\n",
    "\n",
    "    t1 = time.time()\n",
    "\n",
    "    times.append(t1 - t0)"
   ]
  },
  {
   "cell_type": "code",
   "execution_count": null,
   "metadata": {},
   "outputs": [],
   "source": [
    "plt.step(trials, times)\n",
    "\n",
    "plt.xlabel(\"Bootstraps\")\n",
    "plt.ylabel(\"Time [s]\")\n",
    "plt.grid(alpha=0.2)\n",
    "plt.show()"
   ]
  },
  {
   "cell_type": "markdown",
   "metadata": {},
   "source": [
    "## Client implementation"
   ]
  },
  {
   "cell_type": "code",
   "execution_count": 2,
   "metadata": {},
   "outputs": [],
   "source": [
    "from dask.distributed import Client"
   ]
  },
  {
   "cell_type": "code",
   "execution_count": null,
   "metadata": {},
   "outputs": [],
   "source": [
    "client = Client(threads_per_worker=8, n_workers=3)"
   ]
  },
  {
   "cell_type": "code",
   "execution_count": null,
   "metadata": {},
   "outputs": [],
   "source": [
    "%%time\n",
    "\n",
    "Bootstraps=24\n",
    "\n",
    "\n",
    "def generate_sample(i, j):\n",
    "    time.sleep(1)\n",
    "    res_ = pd.DataFrame({i: [j]})\n",
    "    return res_\n",
    "\n",
    "def _decode_data(x):\n",
    "    time.sleep(1)\n",
    "    x = x.apply(lambda x: x**3)\n",
    "    return x\n",
    "\n",
    "def concatenation(list_):\n",
    "    time.sleep(1)\n",
    "    return pd.concat(list_, axis=1)\n",
    "\n",
    "\n",
    "@dask.delayed\n",
    "def task(i):\n",
    "    \n",
    "    res1 = generate_sample(i, i**2)\n",
    "    res1 = _decode_data(res1)\n",
    "    \n",
    "    return res1\n"
   ]
  },
  {
   "cell_type": "code",
   "execution_count": 47,
   "metadata": {},
   "outputs": [],
   "source": [
    "output = []\n",
    "\n",
    "for i in range(Bootstraps):\n",
    "\n",
    "    output.append(task(i))\n",
    "\n",
    "result = dask.compute(output)\n"
   ]
  },
  {
   "cell_type": "code",
   "execution_count": 58,
   "metadata": {},
   "outputs": [],
   "source": [
    "client.close()"
   ]
  },
  {
   "cell_type": "code",
   "execution_count": null,
   "metadata": {},
   "outputs": [],
   "source": [
    "concatenation(result[0])"
   ]
  },
  {
   "cell_type": "code",
   "execution_count": null,
   "metadata": {},
   "outputs": [],
   "source": []
  },
  {
   "cell_type": "code",
   "execution_count": null,
   "metadata": {},
   "outputs": [],
   "source": []
  },
  {
   "cell_type": "code",
   "execution_count": null,
   "metadata": {},
   "outputs": [],
   "source": []
  }
 ],
 "metadata": {
  "kernelspec": {
   "display_name": "agricore_env",
   "language": "python",
   "name": "agricore_env"
  },
  "language_info": {
   "codemirror_mode": {
    "name": "ipython",
    "version": 3
   },
   "file_extension": ".py",
   "mimetype": "text/x-python",
   "name": "python",
   "nbconvert_exporter": "python",
   "pygments_lexer": "ipython3",
   "version": "3.8.10"
  }
 },
 "nbformat": 4,
 "nbformat_minor": 2
}
